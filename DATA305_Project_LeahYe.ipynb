{
  "nbformat": 4,
  "nbformat_minor": 0,
  "metadata": {
    "colab": {
      "provenance": [],
      "authorship_tag": "ABX9TyM+6b3iVN10Y9VgS72iaYt0",
      "include_colab_link": true
    },
    "kernelspec": {
      "name": "python3",
      "display_name": "Python 3"
    },
    "language_info": {
      "name": "python"
    }
  },
  "cells": [
    {
      "cell_type": "markdown",
      "metadata": {
        "id": "view-in-github",
        "colab_type": "text"
      },
      "source": [
        "<a href=\"https://colab.research.google.com/github/leahyye/DATA305-Project/blob/main/DATA305_Project_LeahYe.ipynb\" target=\"_parent\"><img src=\"https://colab.research.google.com/assets/colab-badge.svg\" alt=\"Open In Colab\"/></a>"
      ]
    },
    {
      "cell_type": "markdown",
      "source": [
        "# DATA305 - Project"
      ],
      "metadata": {
        "id": "HzlFR-OQCxMX"
      }
    },
    {
      "cell_type": "markdown",
      "source": [
        "* Student Name: Leah Ye\n",
        "* Student ID: 300651931\n",
        "* Course code: DATA 305\n"
      ],
      "metadata": {
        "id": "cvO68SbOCyKe"
      }
    },
    {
      "cell_type": "code",
      "source": [
        "import numpy as np\n",
        "import matplotlib.pyplot as plt\n",
        "import os\n",
        "import random\n",
        "from sklearn.model_selection import train_test_split\n",
        "import tensorflow as tf\n",
        "from tensorflow.keras import layers, models\n",
        "from tensorflow.keras.layers import TextVectorization, Embedding, Bidirectional, LSTM, Dense\n",
        "from tensorflow.keras.metrics import AUC\n",
        "from tensorflow.keras.models import Sequential"
      ],
      "metadata": {
        "id": "0W6qd1zXC-rX"
      },
      "execution_count": 72,
      "outputs": []
    },
    {
      "cell_type": "markdown",
      "source": [
        "Develop a fully functional model trained on the data provided in train.csv. If\n",
        "a validation set is needed, it should be created as a subset of this training\n",
        "data. Evaluate the model using test.csv, and report both the Area Under the\n",
        "Receiver Operating Characteristic Curve (ROC AUC) and the Area Under the\n",
        "Precision-Recall Curve (PR AUC) on the test set."
      ],
      "metadata": {
        "id": "1B1gnj_BvCU4"
      }
    },
    {
      "cell_type": "code",
      "source": [
        "def set_seeds(seed):\n",
        "  os.environ[\"PYTHONHASHSEED\"] = str(seed)\n",
        "  random.seed(seed)\n",
        "  np.random.seed(seed)\n",
        "  tf.random.set_seed(seed)\n",
        "  os.environ[\"TF_DETERMINISTIC_OPS\"] = \"1\""
      ],
      "metadata": {
        "id": "sUVkxxamDQNG"
      },
      "execution_count": 73,
      "outputs": []
    },
    {
      "cell_type": "code",
      "source": [
        "set_seeds(42)"
      ],
      "metadata": {
        "id": "5SjucoKbs5Gu"
      },
      "execution_count": 33,
      "outputs": []
    },
    {
      "cell_type": "code",
      "source": [
        "# Load the data\n",
        "from google.colab import files\n",
        "import pandas as pd\n",
        "#uploaded = files.upload()\n",
        "\n",
        "train_set = pd.read_csv('train.csv')\n",
        "test_set = pd.read_csv('test.csv')\n",
        "print(f\"Loaded {len(train_set)} rows\")\n",
        "print(f\"Loaded {len(test_set)} rows\")"
      ],
      "metadata": {
        "colab": {
          "base_uri": "https://localhost:8080/"
        },
        "id": "6KF6rWn5Nwtx",
        "outputId": "3e9dbe91-992f-4126-b199-27d02566619f"
      },
      "execution_count": 74,
      "outputs": [
        {
          "output_type": "stream",
          "name": "stdout",
          "text": [
            "Loaded 2352 rows\n",
            "Loaded 3370 rows\n"
          ]
        }
      ]
    },
    {
      "cell_type": "code",
      "source": [
        "def data_preprocessing(seed, train_path='train.csv', test_path='test.csv'):\n",
        "    \"\"\"\n",
        "    Load and split data into train/val/test sets\n",
        "    Returns: (train_set, val_set, test_set)\n",
        "    \"\"\"\n",
        "    # Load data\n",
        "    train = pd.read_csv(train_path)\n",
        "    test = pd.read_csv(test_path)\n",
        "\n",
        "    X_train = train['FASTA']\n",
        "    y_train = train['label']\n",
        "\n",
        "    # Split train into train/val\n",
        "    X_train, X_val, y_train, y_val = train_test_split(\n",
        "        X_train, y_train,\n",
        "        test_size=0.2,\n",
        "        random_state=seed,\n",
        "        stratify=y_train\n",
        "    )\n",
        "\n",
        "    # Create TensorFlow Datasets\n",
        "    train_set = tf.data.Dataset.from_tensor_slices((X_train.values, y_train.values))\n",
        "    train_set = train_set.shuffle(5000, seed=seed).batch(32).prefetch(1)\n",
        "\n",
        "    val_set = tf.data.Dataset.from_tensor_slices((X_val.values, y_val.values))\n",
        "    val_set = val_set.batch(32).prefetch(1)\n",
        "\n",
        "    test_set = tf.data.Dataset.from_tensor_slices((test['FASTA'].values, test['label'].values))\n",
        "    test_set = test_set.batch(32).prefetch(1)\n",
        "\n",
        "    return train_set, val_set, test_set"
      ],
      "metadata": {
        "id": "pqv4HUsyNWGj"
      },
      "execution_count": 75,
      "outputs": []
    },
    {
      "cell_type": "code",
      "source": [
        "def build_text_vectorizer(train_text, max_tokens=30, seq_length=50):\n",
        "    \"\"\"Create and adapt text vectorization layer\"\"\"\n",
        "    text_vec_layer = TextVectorization(\n",
        "        max_tokens=max_tokens,\n",
        "        output_sequence_length=seq_length,\n",
        "        split=\"character\",\n",
        "        pad_to_max_tokens=True\n",
        "    )\n",
        "    text_vec_layer.adapt(train_text)\n",
        "    return text_vec_layer"
      ],
      "metadata": {
        "id": "r_lLsEVnN78f"
      },
      "execution_count": 76,
      "outputs": []
    },
    {
      "cell_type": "code",
      "source": [
        "class BiLSTMAttention(tf.keras.layers.Layer):\n",
        "    def __init__(self):\n",
        "        super().__init__()\n",
        "\n",
        "    def build(self, input_shape):\n",
        "        # input_shape: (batch_size, time_steps, hidden_dim * 2)\n",
        "        self.W = self.add_weight(\n",
        "            name=\"att_weight\",\n",
        "            shape=(input_shape[-1], 1),  # hidden_dim * 2\n",
        "            initializer=\"random_normal\",\n",
        "            trainable=True\n",
        "        )\n",
        "        self.b = self.add_weight(\n",
        "            name=\"att_bias\",\n",
        "            shape=(1,),  # scalar bias\n",
        "            initializer=\"zeros\",\n",
        "            trainable=True\n",
        "        )\n",
        "\n",
        "    def call(self, inputs):\n",
        "        # inputs: (batch_size, time_steps, hidden_dim * 2)\n",
        "        score = tf.nn.tanh(tf.tensordot(inputs, self.W, axes=1) + self.b)  # (batch_size, time_steps, 1)\n",
        "        attention_weights = tf.nn.softmax(score, axis=1)  # (batch_size, time_steps, 1)\n",
        "        context_vector = tf.reduce_sum(inputs * attention_weights, axis=1)  # (batch_size, hidden_dim * 2)\n",
        "        return context_vector"
      ],
      "metadata": {
        "id": "_ViKI3Z6gQE5"
      },
      "execution_count": 49,
      "outputs": []
    },
    {
      "cell_type": "code",
      "source": [
        "# USE THIS\n",
        "class LNSimpleRNNCell(tf.keras.layers.Layer):\n",
        "    def __init__(self, units, activation=\"tanh\", **kwargs):\n",
        "        super().__init__(**kwargs)\n",
        "        self.state_size = units\n",
        "        self.output_size = units\n",
        "        self.simple_rnn_cell = tf.keras.layers.SimpleRNNCell(units,\n",
        "                                                             activation=None)\n",
        "        self.layer_norm = tf.keras.layers.LayerNormalization()\n",
        "        self.activation = tf.keras.activations.get(activation)\n",
        "\n",
        "    def call(self, inputs, states):\n",
        "        outputs, new_states = self.simple_rnn_cell(inputs, states)\n",
        "        norm_outputs = self.activation(self.layer_norm(outputs))\n",
        "        return norm_outputs, [norm_outputs]\n"
      ],
      "metadata": {
        "id": "Bbk_s-1Rc3pf"
      },
      "execution_count": 77,
      "outputs": []
    },
    {
      "cell_type": "code",
      "source": [
        "# results: roc 0.817, pr = 0.54, ok training time\n",
        "# might try again with the pooling layer and GRU this time (next code chunk)\n",
        "def build_improved_model(text_vec_layer, embed_size=128):\n",
        "    vocab_size = len(text_vec_layer.get_vocabulary())\n",
        "\n",
        "    model = tf.keras.Sequential([\n",
        "        text_vec_layer,\n",
        "        tf.keras.layers.Embedding(vocab_size, embed_size, mask_zero=True),\n",
        "\n",
        "        # Deep RNN with your custom cell (2 layers)\n",
        "        tf.keras.layers.RNN(\n",
        "            [LNSimpleRNNCell(128), LNSimpleRNNCell(128)],  # Stacked cells\n",
        "            return_sequences=True\n",
        "        ),\n",
        "\n",
        "        # Bidirectional LSTM for comparison\n",
        "        tf.keras.layers.Bidirectional(\n",
        "            tf.keras.layers.LSTM(64)\n",
        "        ),\n",
        "\n",
        "        # Simple classifier\n",
        "        tf.keras.layers.Dense(64, activation='relu'),\n",
        "        tf.keras.layers.Dropout(0.3),\n",
        "        tf.keras.layers.GlobalAveragePooling1D(), # Add a pooling layer to reduce sequence to a single vector\n",
        "        tf.keras.layers.Dense(1, activation=\"sigmoid\")\n",
        "    ])\n",
        "\n",
        "    model.compile(\n",
        "        loss=\"binary_crossentropy\",\n",
        "        optimizer=\"nadam\",\n",
        "        metrics=[\n",
        "            AUC(name='roc_auc', curve='ROC'),\n",
        "            AUC(name='pr_auc', curve='PR')\n",
        "        ]\n",
        "    )\n",
        "    return model"
      ],
      "metadata": {
        "id": "I1BNsHlQW1Gd"
      },
      "execution_count": 62,
      "outputs": []
    },
    {
      "cell_type": "code",
      "source": [
        "# BEST MODEL SO FAR\n",
        "# Test PR-AUC:     0.4980\n",
        "# Test ROC-AUC:    0.8454\n",
        "def build_improved_model(text_vec_layer, embed_size=128):\n",
        "    vocab_size = len(text_vec_layer.get_vocabulary())\n",
        "\n",
        "    model = tf.keras.Sequential([\n",
        "        text_vec_layer,\n",
        "        tf.keras.layers.Embedding(vocab_size, embed_size, mask_zero=True),\n",
        "\n",
        "        tf.keras.layers.Conv1D(filters=64, kernel_size=3, activation='relu', padding='same'),\n",
        "        tf.keras.layers.MaxPooling1D(pool_size=2),\n",
        "\n",
        "        tf.keras.layers.RNN(LNSimpleRNNCell(128), return_sequences=True),\n",
        "\n",
        "        tf.keras.layers.GRU(64, return_sequences=True),\n",
        "\n",
        "        tf.keras.layers.GlobalAveragePooling1D(),\n",
        "\n",
        "        tf.keras.layers.Dense(64, activation='relu'),\n",
        "        tf.keras.layers.Dropout(0.3),\n",
        "        tf.keras.layers.BatchNormalization(),\n",
        "\n",
        "        tf.keras.layers.Dense(1, activation=\"sigmoid\")\n",
        "    ])\n",
        "\n",
        "    model.compile(\n",
        "        loss=\"binary_crossentropy\",\n",
        "        optimizer=tf.keras.optimizers.Nadam(learning_rate=0.001),\n",
        "        metrics=[\n",
        "            AUC(name='roc_auc', curve='ROC'),\n",
        "            AUC(name='pr_auc', curve='PR')\n",
        "        ]\n",
        "    )\n",
        "    return model"
      ],
      "metadata": {
        "id": "AWzVU5RXlEor"
      },
      "execution_count": 78,
      "outputs": []
    },
    {
      "cell_type": "code",
      "source": [
        "# LSTM model takes a long time to train\n",
        "# Test ROC-AUC:    0.8164\n",
        "# Test PR-AUC:     0.3778\n",
        "def build_improved_model(text_vec_layer, embed_size=128):\n",
        "    vocab_size = len(text_vec_layer.get_vocabulary())\n",
        "\n",
        "    model = tf.keras.Sequential([\n",
        "        text_vec_layer,\n",
        "        tf.keras.layers.Embedding(vocab_size, embed_size, mask_zero=True),\n",
        "        tf.keras.layers.LSTM(32, return_sequences=True, input_shape=[None, 5]),\n",
        "        tf.keras.layers.GlobalAveragePooling1D(), # Add a pooling layer to reduce sequence to a single vector\n",
        "        tf.keras.layers.Dense(1, activation=\"sigmoid\")\n",
        "    ])\n",
        "\n",
        "    model.compile(\n",
        "        loss=\"binary_crossentropy\",\n",
        "        optimizer=\"nadam\",\n",
        "        metrics=[\n",
        "            AUC(name='roc_auc', curve='ROC'),\n",
        "            AUC(name='pr_auc', curve='PR')\n",
        "        ]\n",
        "    )\n",
        "    return model"
      ],
      "metadata": {
        "id": "lnF0jZDLikM9"
      },
      "execution_count": 57,
      "outputs": []
    },
    {
      "cell_type": "code",
      "source": [
        "# roc: 0.79, decent pr-auc\n",
        "def build_improved_model(text_vec_layer, embed_size=128):\n",
        "    vocab_size = len(text_vec_layer.get_vocabulary())\n",
        "\n",
        "    model = tf.keras.Sequential([\n",
        "        text_vec_layer,\n",
        "        tf.keras.layers.Embedding(vocab_size, embed_size, mask_zero=True),\n",
        "        tf.keras.layers.Bidirectional(tf.keras.layers.LSTM(\n",
        "            128,\n",
        "            return_sequences=True,  # Pass sequences to next layer\n",
        "            dropout=0.2,\n",
        "            recurrent_dropout=0.2\n",
        "        )),\n",
        "        tf.keras.layers.Bidirectional(tf.keras.layers.LSTM(64)),  # Stacked LSTM\n",
        "        tf.keras.layers.Dense(64, activation='relu', kernel_regularizer='l2'),\n",
        "        tf.keras.layers.Dropout(0.3),\n",
        "        tf.keras.layers.Dense(1, activation=\"sigmoid\")\n",
        "    ])\n",
        "\n",
        "    model.compile(\n",
        "        loss=\"binary_crossentropy\",\n",
        "        optimizer=\"nadam\",\n",
        "        metrics=[\n",
        "            AUC(name='roc_auc', curve='ROC'),\n",
        "            AUC(name='pr_auc', curve='PR')\n",
        "        ]\n",
        "    )\n",
        "\n",
        "    return model"
      ],
      "metadata": {
        "id": "4WNyrN0Sfcpw"
      },
      "execution_count": 58,
      "outputs": []
    },
    {
      "cell_type": "code",
      "source": [
        "def train_model(model, train_set, val_set, callbacks, epochs=30):\n",
        "    \"\"\"Train model and return training history\"\"\"\n",
        "    if callbacks is None:\n",
        "        callbacks = []\n",
        "\n",
        "    history = model.fit(\n",
        "        train_set,\n",
        "        validation_data=val_set,\n",
        "        epochs=epochs,\n",
        "        #shuffle=False,\n",
        "        callbacks=callbacks,\n",
        "        verbose=1\n",
        "    )\n",
        "    return history"
      ],
      "metadata": {
        "id": "ZhVfH3qxOQNe"
      },
      "execution_count": 79,
      "outputs": []
    },
    {
      "cell_type": "code",
      "source": [
        "def evaluate_model(model, test_set, verbose=True, seed=None):\n",
        "    \"\"\"Evaluate model on test set and return metrics.\"\"\"\n",
        "    test_loss, test_roc_auc, test_pr_auc = model.evaluate(test_set, verbose=0)\n",
        "\n",
        "    metrics = {\n",
        "        'loss': test_loss,\n",
        "        'roc_auc': test_roc_auc,\n",
        "        'pr_auc': test_pr_auc\n",
        "    }\n",
        "\n",
        "\n",
        "    if verbose:\n",
        "        print(\"\\n\" + \"=\"*50)\n",
        "        print(f\"\\n=== Running Trial with seed {seed} ===\")\n",
        "        print(\"-\"*50)\n",
        "        print(f\"Test Loss:       {test_loss:.4f}\")\n",
        "        print(f\"Test ROC-AUC:    {test_roc_auc:.4f}\")\n",
        "        print(f\"Test PR-AUC:     {test_pr_auc:.4f}\")\n",
        "        print(\"=\"*50 + \"\\n\")\n",
        "\n",
        "    return metrics"
      ],
      "metadata": {
        "id": "vBZYz9WfOas2"
      },
      "execution_count": 80,
      "outputs": []
    },
    {
      "cell_type": "code",
      "source": [
        "def run_experiment(seed):\n",
        "    \"\"\"Complete training pipeline for one seed\"\"\"\n",
        "    print(f\"\\n=== Running Trial with seed {seed} ===\")\n",
        "    set_seeds(seed)\n",
        "\n",
        "    # 1. Data preparation\n",
        "    train_set, val_set, test_set = data_preprocessing(seed)\n",
        "\n",
        "    # 2. Text vectorization\n",
        "    train_text = pd.read_csv('train.csv')['FASTA']\n",
        "    text_vec_layer = build_text_vectorizer(train_text)\n",
        "\n",
        "    # 3. Model building\n",
        "    model = build_improved_model(text_vec_layer)\n",
        "\n",
        "    # 4. Training\n",
        "    callbacks = [\n",
        "        tf.keras.callbacks.ModelCheckpoint(\"best_model.weights.h5\", save_best_only=True, save_weights_only=True),\n",
        "        tf.keras.callbacks.EarlyStopping(patience=3, restore_best_weights=True)\n",
        "    ]\n",
        "\n",
        "    history = train_model(model, train_set, val_set, callbacks)\n",
        "\n",
        "    # 5. Evaluation\n",
        "    metrics = evaluate_model(model, test_set, seed=seed)\n",
        "\n",
        "    return history, metrics"
      ],
      "metadata": {
        "id": "Zyegrt_FOero"
      },
      "execution_count": 81,
      "outputs": []
    },
    {
      "cell_type": "code",
      "source": [
        "run_experiment(42)"
      ],
      "metadata": {
        "colab": {
          "base_uri": "https://localhost:8080/"
        },
        "id": "VyiwREyiPy2P",
        "outputId": "563a67a2-f311-45e5-cf5b-16338501f7e6"
      },
      "execution_count": 71,
      "outputs": [
        {
          "output_type": "stream",
          "name": "stdout",
          "text": [
            "\n",
            "=== Running Trial with seed 42 ===\n",
            "Epoch 1/30\n"
          ]
        },
        {
          "output_type": "stream",
          "name": "stderr",
          "text": [
            "/usr/local/lib/python3.11/dist-packages/keras/src/layers/layer.py:938: UserWarning: Layer 'conv1d' (of type Conv1D) was passed an input with a mask attached to it. However, this layer does not support masking and will therefore destroy the mask information. Downstream layers will not see the mask.\n",
            "  warnings.warn(\n",
            "/usr/local/lib/python3.11/dist-packages/keras/src/layers/layer.py:393: UserWarning: `build()` was called on layer 'ln_simple_rnn_cell_11', however the layer does not have a `build()` method implemented and it looks like it has unbuilt state. This will cause the layer to be marked as built, despite not being actually built, which may cause failures down the line. Make sure to implement a proper `build()` method.\n",
            "  warnings.warn(\n"
          ]
        },
        {
          "output_type": "stream",
          "name": "stdout",
          "text": [
            "\u001b[1m59/59\u001b[0m \u001b[32m━━━━━━━━━━━━━━━━━━━━\u001b[0m\u001b[37m\u001b[0m \u001b[1m15s\u001b[0m 74ms/step - loss: 0.6818 - pr_auc: 0.6671 - roc_auc: 0.6604 - val_loss: 0.6356 - val_pr_auc: 0.8014 - val_roc_auc: 0.7845\n",
            "Epoch 2/30\n",
            "\u001b[1m59/59\u001b[0m \u001b[32m━━━━━━━━━━━━━━━━━━━━\u001b[0m\u001b[37m\u001b[0m \u001b[1m3s\u001b[0m 53ms/step - loss: 0.5738 - pr_auc: 0.7930 - roc_auc: 0.7720 - val_loss: 0.6191 - val_pr_auc: 0.8053 - val_roc_auc: 0.7880\n",
            "Epoch 3/30\n",
            "\u001b[1m59/59\u001b[0m \u001b[32m━━━━━━━━━━━━━━━━━━━━\u001b[0m\u001b[37m\u001b[0m \u001b[1m4s\u001b[0m 74ms/step - loss: 0.4926 - pr_auc: 0.8588 - roc_auc: 0.8442 - val_loss: 0.5679 - val_pr_auc: 0.8085 - val_roc_auc: 0.8029\n",
            "Epoch 4/30\n",
            "\u001b[1m59/59\u001b[0m \u001b[32m━━━━━━━━━━━━━━━━━━━━\u001b[0m\u001b[37m\u001b[0m \u001b[1m4s\u001b[0m 53ms/step - loss: 0.4397 - pr_auc: 0.8904 - roc_auc: 0.8777 - val_loss: 0.5674 - val_pr_auc: 0.8299 - val_roc_auc: 0.8229\n",
            "Epoch 5/30\n",
            "\u001b[1m59/59\u001b[0m \u001b[32m━━━━━━━━━━━━━━━━━━━━\u001b[0m\u001b[37m\u001b[0m \u001b[1m3s\u001b[0m 53ms/step - loss: 0.4186 - pr_auc: 0.8972 - roc_auc: 0.8931 - val_loss: 0.5424 - val_pr_auc: 0.8330 - val_roc_auc: 0.8343\n",
            "Epoch 6/30\n",
            "\u001b[1m59/59\u001b[0m \u001b[32m━━━━━━━━━━━━━━━━━━━━\u001b[0m\u001b[37m\u001b[0m \u001b[1m3s\u001b[0m 53ms/step - loss: 0.3998 - pr_auc: 0.9105 - roc_auc: 0.9004 - val_loss: 0.4994 - val_pr_auc: 0.8464 - val_roc_auc: 0.8456\n",
            "Epoch 7/30\n",
            "\u001b[1m59/59\u001b[0m \u001b[32m━━━━━━━━━━━━━━━━━━━━\u001b[0m\u001b[37m\u001b[0m \u001b[1m5s\u001b[0m 56ms/step - loss: 0.3438 - pr_auc: 0.9241 - roc_auc: 0.9311 - val_loss: 1.0549 - val_pr_auc: 0.7846 - val_roc_auc: 0.8129\n",
            "Epoch 8/30\n",
            "\u001b[1m59/59\u001b[0m \u001b[32m━━━━━━━━━━━━━━━━━━━━\u001b[0m\u001b[37m\u001b[0m \u001b[1m3s\u001b[0m 52ms/step - loss: 0.4086 - pr_auc: 0.9018 - roc_auc: 0.9027 - val_loss: 0.5836 - val_pr_auc: 0.8336 - val_roc_auc: 0.8383\n",
            "Epoch 9/30\n",
            "\u001b[1m59/59\u001b[0m \u001b[32m━━━━━━━━━━━━━━━━━━━━\u001b[0m\u001b[37m\u001b[0m \u001b[1m3s\u001b[0m 54ms/step - loss: 0.3500 - pr_auc: 0.9131 - roc_auc: 0.9256 - val_loss: 0.5668 - val_pr_auc: 0.8459 - val_roc_auc: 0.8408\n",
            "\n",
            "==================================================\n",
            "\n",
            "=== Running Trial with seed 42 ===\n",
            "--------------------------------------------------\n",
            "Test Loss:       0.4665\n",
            "Test ROC-AUC:    0.8454\n",
            "Test PR-AUC:     0.4980\n",
            "==================================================\n",
            "\n"
          ]
        },
        {
          "output_type": "execute_result",
          "data": {
            "text/plain": [
              "(<keras.src.callbacks.history.History at 0x7bee8ef66990>,\n",
              " {'loss': 0.4664892256259918,\n",
              "  'roc_auc': 0.8454327583312988,\n",
              "  'pr_auc': 0.4979817867279053})"
            ]
          },
          "metadata": {},
          "execution_count": 71
        }
      ]
    },
    {
      "cell_type": "markdown",
      "source": [],
      "metadata": {
        "id": "Ev3gOobJi-ma"
      }
    },
    {
      "cell_type": "markdown",
      "source": [
        "Structure your code as a complete, end-to-end, and reproducible program\n",
        "and using a parameter seed for all stochastic components (e.g.,\n",
        "```random.seed(seed), np.random.seed(seed), tf.random.set_seed(seed)\n",
        "```, and\n",
        "```random_state=seed```in\n",
        "```<train_test_split()```, etc.). Run the training and evaluation process\n",
        "over 5 trials using seeds from 1 to 5. Report the mean and standard\n",
        "deviation of both ROC AUC and PR AUC scores on the test set."
      ],
      "metadata": {
        "id": "fFc6-BC8vKSY"
      }
    },
    {
      "cell_type": "code",
      "source": [
        "def run_experiment(seed):\n",
        "    \"\"\"Complete training pipeline for one seed\"\"\"\n",
        "    print(f\"\\n=== Running Trial with seed {seed} ===\")\n",
        "    set_seeds(seed)\n",
        "\n",
        "    train_set, val_set, test_set = data_preprocessing(seed)\n",
        "    train_text = pd.read_csv('train.csv')['FASTA']\n",
        "    text_vec_layer = build_text_vectorizer(train_text)\n",
        "    model = build_improved_model(text_vec_layer)\n",
        "    callbacks = [\n",
        "        tf.keras.callbacks.ModelCheckpoint(\"best_model.weights.h5\", save_best_only=True, save_weights_only=True),\n",
        "        tf.keras.callbacks.EarlyStopping(patience=3, restore_best_weights=True)\n",
        "    ]\n",
        "    history = train_model(model, train_set, val_set, callbacks)\n",
        "\n",
        "    # Hide the evalutaion results for each seed by setting verbose as false\n",
        "    metrics = evaluate_model(model, test_set, verbose=False)\n",
        "\n",
        "    return history, metrics"
      ],
      "metadata": {
        "id": "7pWu3TqlUH71"
      },
      "execution_count": 82,
      "outputs": []
    },
    {
      "cell_type": "code",
      "source": [
        "# Execution of reproducible results\n",
        "SEEDS = [1,2,3,4,5]\n",
        "roc_auc_scores = []\n",
        "pr_auc_scores = []\n",
        "\n",
        "for seed in SEEDS:\n",
        "    _, metrics = run_experiment(seed)\n",
        "    roc_auc_scores.append(metrics['roc_auc'])\n",
        "    pr_auc_scores.append(metrics['pr_auc'])"
      ],
      "metadata": {
        "colab": {
          "base_uri": "https://localhost:8080/"
        },
        "id": "hJ8RhAo3OnPQ",
        "outputId": "cbde5877-90a4-4aac-e95c-20cefcc21718"
      },
      "execution_count": null,
      "outputs": [
        {
          "output_type": "stream",
          "name": "stdout",
          "text": [
            "\n",
            "=== Running Trial with seed 1 ===\n",
            "Epoch 1/30\n"
          ]
        },
        {
          "output_type": "stream",
          "name": "stderr",
          "text": [
            "/usr/local/lib/python3.11/dist-packages/keras/src/layers/layer.py:938: UserWarning: Layer 'conv1d_1' (of type Conv1D) was passed an input with a mask attached to it. However, this layer does not support masking and will therefore destroy the mask information. Downstream layers will not see the mask.\n",
            "  warnings.warn(\n",
            "/usr/local/lib/python3.11/dist-packages/keras/src/layers/layer.py:393: UserWarning: `build()` was called on layer 'ln_simple_rnn_cell_12', however the layer does not have a `build()` method implemented and it looks like it has unbuilt state. This will cause the layer to be marked as built, despite not being actually built, which may cause failures down the line. Make sure to implement a proper `build()` method.\n",
            "  warnings.warn(\n"
          ]
        },
        {
          "output_type": "stream",
          "name": "stdout",
          "text": [
            "\u001b[1m59/59\u001b[0m \u001b[32m━━━━━━━━━━━━━━━━━━━━\u001b[0m\u001b[37m\u001b[0m \u001b[1m16s\u001b[0m 95ms/step - loss: 0.6944 - pr_auc: 0.6907 - roc_auc: 0.6750 - val_loss: 0.6583 - val_pr_auc: 0.7926 - val_roc_auc: 0.7674\n",
            "Epoch 2/30\n",
            "\u001b[1m59/59\u001b[0m \u001b[32m━━━━━━━━━━━━━━━━━━━━\u001b[0m\u001b[37m\u001b[0m \u001b[1m8s\u001b[0m 54ms/step - loss: 0.5732 - pr_auc: 0.7947 - roc_auc: 0.7736 - val_loss: 0.6285 - val_pr_auc: 0.8156 - val_roc_auc: 0.7923\n",
            "Epoch 3/30\n",
            "\u001b[1m59/59\u001b[0m \u001b[32m━━━━━━━━━━━━━━━━━━━━\u001b[0m\u001b[37m\u001b[0m \u001b[1m7s\u001b[0m 80ms/step - loss: 0.5189 - pr_auc: 0.8412 - roc_auc: 0.8256 - val_loss: 0.6172 - val_pr_auc: 0.8214 - val_roc_auc: 0.8047\n",
            "Epoch 4/30\n",
            "\u001b[1m59/59\u001b[0m \u001b[32m━━━━━━━━━━━━━━━━━━━━\u001b[0m\u001b[37m\u001b[0m \u001b[1m3s\u001b[0m 54ms/step - loss: 0.4913 - pr_auc: 0.8503 - roc_auc: 0.8395 - val_loss: 0.5676 - val_pr_auc: 0.8371 - val_roc_auc: 0.8238\n",
            "Epoch 5/30\n",
            "\u001b[1m59/59\u001b[0m \u001b[32m━━━━━━━━━━━━━━━━━━━━\u001b[0m\u001b[37m\u001b[0m \u001b[1m3s\u001b[0m 54ms/step - loss: 0.3765 - pr_auc: 0.9200 - roc_auc: 0.9151 - val_loss: 0.5811 - val_pr_auc: 0.8433 - val_roc_auc: 0.8332\n",
            "Epoch 6/30\n",
            "\u001b[1m59/59\u001b[0m \u001b[32m━━━━━━━━━━━━━━━━━━━━\u001b[0m\u001b[37m\u001b[0m \u001b[1m4s\u001b[0m 64ms/step - loss: 0.4141 - pr_auc: 0.8956 - roc_auc: 0.8949 - val_loss: 0.7155 - val_pr_auc: 0.8460 - val_roc_auc: 0.8356\n",
            "Epoch 7/30\n",
            "\u001b[1m59/59\u001b[0m \u001b[32m━━━━━━━━━━━━━━━━━━━━\u001b[0m\u001b[37m\u001b[0m \u001b[1m4s\u001b[0m 53ms/step - loss: 0.3970 - pr_auc: 0.9097 - roc_auc: 0.9027 - val_loss: 0.5301 - val_pr_auc: 0.8353 - val_roc_auc: 0.8286\n",
            "Epoch 8/30\n",
            "\u001b[1m59/59\u001b[0m \u001b[32m━━━━━━━━━━━━━━━━━━━━\u001b[0m\u001b[37m\u001b[0m \u001b[1m3s\u001b[0m 53ms/step - loss: 0.3383 - pr_auc: 0.9290 - roc_auc: 0.9331 - val_loss: 0.5449 - val_pr_auc: 0.8615 - val_roc_auc: 0.8464\n",
            "Epoch 9/30\n",
            "\u001b[1m59/59\u001b[0m \u001b[32m━━━━━━━━━━━━━━━━━━━━\u001b[0m\u001b[37m\u001b[0m \u001b[1m7s\u001b[0m 79ms/step - loss: 0.3351 - pr_auc: 0.9291 - roc_auc: 0.9336 - val_loss: 0.5437 - val_pr_auc: 0.8453 - val_roc_auc: 0.8442\n",
            "Epoch 10/30\n",
            "\u001b[1m59/59\u001b[0m \u001b[32m━━━━━━━━━━━━━━━━━━━━\u001b[0m\u001b[37m\u001b[0m \u001b[1m3s\u001b[0m 55ms/step - loss: 0.3219 - pr_auc: 0.9353 - roc_auc: 0.9367 - val_loss: 0.4997 - val_pr_auc: 0.8530 - val_roc_auc: 0.8508\n",
            "Epoch 11/30\n",
            "\u001b[1m59/59\u001b[0m \u001b[32m━━━━━━━━━━━━━━━━━━━━\u001b[0m\u001b[37m\u001b[0m \u001b[1m3s\u001b[0m 51ms/step - loss: 0.2528 - pr_auc: 0.9600 - roc_auc: 0.9640 - val_loss: 0.6402 - val_pr_auc: 0.8443 - val_roc_auc: 0.8343\n",
            "Epoch 12/30\n",
            "\u001b[1m59/59\u001b[0m \u001b[32m━━━━━━━━━━━━━━━━━━━━\u001b[0m\u001b[37m\u001b[0m \u001b[1m6s\u001b[0m 70ms/step - loss: 0.2447 - pr_auc: 0.9652 - roc_auc: 0.9637 - val_loss: 0.5475 - val_pr_auc: 0.8357 - val_roc_auc: 0.8376\n",
            "Epoch 13/30\n",
            "\u001b[1m59/59\u001b[0m \u001b[32m━━━━━━━━━━━━━━━━━━━━\u001b[0m\u001b[37m\u001b[0m \u001b[1m4s\u001b[0m 53ms/step - loss: 0.2389 - pr_auc: 0.9567 - roc_auc: 0.9656 - val_loss: 0.7151 - val_pr_auc: 0.8556 - val_roc_auc: 0.8471\n",
            "\n",
            "=== Running Trial with seed 2 ===\n",
            "Epoch 1/30\n"
          ]
        },
        {
          "output_type": "stream",
          "name": "stderr",
          "text": [
            "/usr/local/lib/python3.11/dist-packages/keras/src/layers/layer.py:938: UserWarning: Layer 'conv1d_2' (of type Conv1D) was passed an input with a mask attached to it. However, this layer does not support masking and will therefore destroy the mask information. Downstream layers will not see the mask.\n",
            "  warnings.warn(\n",
            "/usr/local/lib/python3.11/dist-packages/keras/src/layers/layer.py:393: UserWarning: `build()` was called on layer 'ln_simple_rnn_cell_13', however the layer does not have a `build()` method implemented and it looks like it has unbuilt state. This will cause the layer to be marked as built, despite not being actually built, which may cause failures down the line. Make sure to implement a proper `build()` method.\n",
            "  warnings.warn(\n"
          ]
        },
        {
          "output_type": "stream",
          "name": "stdout",
          "text": [
            "\u001b[1m59/59\u001b[0m \u001b[32m━━━━━━━━━━━━━━━━━━━━\u001b[0m\u001b[37m\u001b[0m \u001b[1m14s\u001b[0m 74ms/step - loss: 0.7232 - pr_auc: 0.6003 - roc_auc: 0.5887 - val_loss: 0.6556 - val_pr_auc: 0.7510 - val_roc_auc: 0.7625\n",
            "Epoch 2/30\n",
            "\u001b[1m59/59\u001b[0m \u001b[32m━━━━━━━━━━━━━━━━━━━━\u001b[0m\u001b[37m\u001b[0m \u001b[1m4s\u001b[0m 55ms/step - loss: 0.5756 - pr_auc: 0.7916 - roc_auc: 0.7745 - val_loss: 0.6096 - val_pr_auc: 0.8091 - val_roc_auc: 0.7941\n",
            "Epoch 3/30\n",
            "\u001b[1m59/59\u001b[0m \u001b[32m━━━━━━━━━━━━━━━━━━━━\u001b[0m\u001b[37m\u001b[0m \u001b[1m5s\u001b[0m 52ms/step - loss: 0.4931 - pr_auc: 0.8490 - roc_auc: 0.8437 - val_loss: 0.5839 - val_pr_auc: 0.7933 - val_roc_auc: 0.8045\n",
            "Epoch 4/30\n",
            "\u001b[1m59/59\u001b[0m \u001b[32m━━━━━━━━━━━━━━━━━━━━\u001b[0m\u001b[37m\u001b[0m \u001b[1m5s\u001b[0m 54ms/step - loss: 0.4501 - pr_auc: 0.8767 - roc_auc: 0.8763 - val_loss: 0.5253 - val_pr_auc: 0.8143 - val_roc_auc: 0.8337\n",
            "Epoch 5/30\n",
            "\u001b[1m59/59\u001b[0m \u001b[32m━━━━━━━━━━━━━━━━━━━━\u001b[0m\u001b[37m\u001b[0m \u001b[1m4s\u001b[0m 73ms/step - loss: 0.4037 - pr_auc: 0.8990 - roc_auc: 0.9000 - val_loss: 0.6021 - val_pr_auc: 0.8187 - val_roc_auc: 0.8352\n",
            "Epoch 6/30\n",
            "\u001b[1m59/59\u001b[0m \u001b[32m━━━━━━━━━━━━━━━━━━━━\u001b[0m\u001b[37m\u001b[0m \u001b[1m4s\u001b[0m 60ms/step - loss: 0.3834 - pr_auc: 0.9198 - roc_auc: 0.9089 - val_loss: 0.6066 - val_pr_auc: 0.8134 - val_roc_auc: 0.8462\n",
            "Epoch 7/30\n",
            "\u001b[1m59/59\u001b[0m \u001b[32m━━━━━━━━━━━━━━━━━━━━\u001b[0m\u001b[37m\u001b[0m \u001b[1m5s\u001b[0m 52ms/step - loss: 0.3647 - pr_auc: 0.9235 - roc_auc: 0.9212 - val_loss: 0.5319 - val_pr_auc: 0.8082 - val_roc_auc: 0.8330\n",
            "\n",
            "=== Running Trial with seed 3 ===\n",
            "Epoch 1/30\n"
          ]
        },
        {
          "output_type": "stream",
          "name": "stderr",
          "text": [
            "/usr/local/lib/python3.11/dist-packages/keras/src/layers/layer.py:938: UserWarning: Layer 'conv1d_3' (of type Conv1D) was passed an input with a mask attached to it. However, this layer does not support masking and will therefore destroy the mask information. Downstream layers will not see the mask.\n",
            "  warnings.warn(\n",
            "/usr/local/lib/python3.11/dist-packages/keras/src/layers/layer.py:393: UserWarning: `build()` was called on layer 'ln_simple_rnn_cell_14', however the layer does not have a `build()` method implemented and it looks like it has unbuilt state. This will cause the layer to be marked as built, despite not being actually built, which may cause failures down the line. Make sure to implement a proper `build()` method.\n",
            "  warnings.warn(\n"
          ]
        },
        {
          "output_type": "stream",
          "name": "stdout",
          "text": [
            "\u001b[1m59/59\u001b[0m \u001b[32m━━━━━━━━━━━━━━━━━━━━\u001b[0m\u001b[37m\u001b[0m \u001b[1m15s\u001b[0m 89ms/step - loss: 0.7067 - pr_auc: 0.6222 - roc_auc: 0.6149 - val_loss: 0.6367 - val_pr_auc: 0.7975 - val_roc_auc: 0.7792\n",
            "Epoch 2/30\n",
            "\u001b[1m59/59\u001b[0m \u001b[32m━━━━━━━━━━━━━━━━━━━━\u001b[0m\u001b[37m\u001b[0m \u001b[1m3s\u001b[0m 57ms/step - loss: 0.5697 - pr_auc: 0.7787 - roc_auc: 0.7770 - val_loss: 0.5923 - val_pr_auc: 0.8194 - val_roc_auc: 0.8034\n",
            "Epoch 3/30\n",
            "\u001b[1m59/59\u001b[0m \u001b[32m━━━━━━━━━━━━━━━━━━━━\u001b[0m\u001b[37m\u001b[0m \u001b[1m3s\u001b[0m 51ms/step - loss: 0.4895 - pr_auc: 0.8546 - roc_auc: 0.8455 - val_loss: 0.6076 - val_pr_auc: 0.8142 - val_roc_auc: 0.8099\n",
            "Epoch 4/30\n",
            "\u001b[1m59/59\u001b[0m \u001b[32m━━━━━━━━━━━━━━━━━━━━\u001b[0m\u001b[37m\u001b[0m \u001b[1m3s\u001b[0m 52ms/step - loss: 0.4428 - pr_auc: 0.8876 - roc_auc: 0.8771 - val_loss: 0.5313 - val_pr_auc: 0.8233 - val_roc_auc: 0.8182\n",
            "Epoch 5/30\n",
            "\u001b[1m59/59\u001b[0m \u001b[32m━━━━━━━━━━━━━━━━━━━━\u001b[0m\u001b[37m\u001b[0m \u001b[1m5s\u001b[0m 80ms/step - loss: 0.4362 - pr_auc: 0.8885 - roc_auc: 0.8791 - val_loss: 0.5235 - val_pr_auc: 0.8219 - val_roc_auc: 0.8221\n",
            "Epoch 6/30\n",
            "\u001b[1m59/59\u001b[0m \u001b[32m━━━━━━━━━━━━━━━━━━━━\u001b[0m\u001b[37m\u001b[0m \u001b[1m3s\u001b[0m 50ms/step - loss: 0.4065 - pr_auc: 0.9068 - roc_auc: 0.8954 - val_loss: 0.5514 - val_pr_auc: 0.8330 - val_roc_auc: 0.8332\n",
            "Epoch 7/30\n",
            "\u001b[1m59/59\u001b[0m \u001b[32m━━━━━━━━━━━━━━━━━━━━\u001b[0m\u001b[37m\u001b[0m \u001b[1m3s\u001b[0m 51ms/step - loss: 0.3311 - pr_auc: 0.9351 - roc_auc: 0.9326 - val_loss: 0.6480 - val_pr_auc: 0.8349 - val_roc_auc: 0.8343\n",
            "Epoch 8/30\n",
            "\u001b[1m59/59\u001b[0m \u001b[32m━━━━━━━━━━━━━━━━━━━━\u001b[0m\u001b[37m\u001b[0m \u001b[1m3s\u001b[0m 51ms/step - loss: 0.3332 - pr_auc: 0.9367 - roc_auc: 0.9336 - val_loss: 0.8012 - val_pr_auc: 0.8224 - val_roc_auc: 0.8340\n",
            "\n",
            "=== Running Trial with seed 4 ===\n",
            "Epoch 1/30\n"
          ]
        },
        {
          "output_type": "stream",
          "name": "stderr",
          "text": [
            "/usr/local/lib/python3.11/dist-packages/keras/src/layers/layer.py:938: UserWarning: Layer 'conv1d_4' (of type Conv1D) was passed an input with a mask attached to it. However, this layer does not support masking and will therefore destroy the mask information. Downstream layers will not see the mask.\n",
            "  warnings.warn(\n",
            "/usr/local/lib/python3.11/dist-packages/keras/src/layers/layer.py:393: UserWarning: `build()` was called on layer 'ln_simple_rnn_cell_15', however the layer does not have a `build()` method implemented and it looks like it has unbuilt state. This will cause the layer to be marked as built, despite not being actually built, which may cause failures down the line. Make sure to implement a proper `build()` method.\n",
            "  warnings.warn(\n"
          ]
        },
        {
          "output_type": "stream",
          "name": "stdout",
          "text": [
            "\u001b[1m33/59\u001b[0m \u001b[32m━━━━━━━━━━━\u001b[0m\u001b[37m━━━━━━━━━\u001b[0m \u001b[1m1s\u001b[0m 53ms/step - loss: 0.7886 - pr_auc: 0.5629 - roc_auc: 0.5542"
          ]
        }
      ]
    },
    {
      "cell_type": "code",
      "source": [
        "print(\"\\nResults of 5 trials\")\n",
        "print(f\"Mean ROC-AUC: {np.mean(roc_auc_scores):.3f}\")\n",
        "print(f\"Standard Deviation ROC-AUC: {np.std(roc_auc_scores):.3f}\")\n",
        "print(f\"Mean PR-AUC: {np.mean(pr_auc_scores):.3f}\")\n",
        "print(f\"Standard Deviation PR-AUC: {np.std(pr_auc_scores):.3f}\")"
      ],
      "metadata": {
        "colab": {
          "base_uri": "https://localhost:8080/"
        },
        "id": "hYu2SpJsTS1l",
        "outputId": "44475959-1c48-46ca-fbf5-ad2b6bdae58c"
      },
      "execution_count": null,
      "outputs": [
        {
          "output_type": "stream",
          "name": "stdout",
          "text": [
            "\n",
            "Results of 5 trials\n",
            "Mean ROC-AUC: 0.815\n",
            "Standard Deviation ROC-AUC: 0.013\n",
            "Mean PR-AUC: 0.364\n",
            "Standard Deviation PR-AUC: 0.016\n"
          ]
        }
      ]
    },
    {
      "cell_type": "markdown",
      "source": [
        "Discussion:\n",
        "Include a discussion at the end of your notebook (about what you have\n",
        "learned, difficulties, what has worked and not worked, future directions,\n",
        "etc.)."
      ],
      "metadata": {
        "id": "kDb8Mhg3WheG"
      }
    }
  ]
}