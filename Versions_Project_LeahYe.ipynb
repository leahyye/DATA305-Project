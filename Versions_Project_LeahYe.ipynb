{
  "nbformat": 4,
  "nbformat_minor": 0,
  "metadata": {
    "colab": {
      "provenance": [],
      "authorship_tag": "ABX9TyNkTk+vhaRJiD773DVqfm/6",
      "include_colab_link": true
    },
    "kernelspec": {
      "name": "python3",
      "display_name": "Python 3"
    },
    "language_info": {
      "name": "python"
    }
  },
  "cells": [
    {
      "cell_type": "markdown",
      "metadata": {
        "id": "view-in-github",
        "colab_type": "text"
      },
      "source": [
        "<a href=\"https://colab.research.google.com/github/leahyye/DATA305-Project/blob/main/Versions_Project_LeahYe.ipynb\" target=\"_parent\"><img src=\"https://colab.research.google.com/assets/colab-badge.svg\" alt=\"Open In Colab\"/></a>"
      ]
    },
    {
      "cell_type": "markdown",
      "source": [
        "# DATA305 - Project"
      ],
      "metadata": {
        "id": "HzlFR-OQCxMX"
      }
    },
    {
      "cell_type": "markdown",
      "source": [
        "* Student Name: Leah Ye\n",
        "* Student ID: 300651931\n",
        "* Course code: DATA 305\n"
      ],
      "metadata": {
        "id": "cvO68SbOCyKe"
      }
    },
    {
      "cell_type": "code",
      "source": [
        "import numpy as np\n",
        "import matplotlib.pyplot as plt\n",
        "import os\n",
        "import random\n",
        "from sklearn.model_selection import train_test_split\n",
        "import tensorflow as tf\n",
        "from tensorflow.keras import layers, models\n",
        "from tensorflow.keras.layers import TextVectorization, Embedding, Bidirectional, LSTM, Dense, Attention\n",
        "from tensorflow.keras.metrics import AUC\n",
        "from tensorflow.keras.models import Sequential\n",
        "from tensorflow.keras.callbacks import ReduceLROnPlateau, ModelCheckpoint, EarlyStopping"
      ],
      "metadata": {
        "id": "0W6qd1zXC-rX"
      },
      "execution_count": null,
      "outputs": []
    },
    {
      "cell_type": "markdown",
      "source": [
        "Develop a fully functional model trained on the data provided in train.csv. If\n",
        "a validation set is needed, it should be created as a subset of this training\n",
        "data. Evaluate the model using test.csv, and report both the Area Under the\n",
        "Receiver Operating Characteristic Curve (ROC AUC) and the Area Under the\n",
        "Precision-Recall Curve (PR AUC) on the test set."
      ],
      "metadata": {
        "id": "1B1gnj_BvCU4"
      }
    },
    {
      "cell_type": "code",
      "source": [
        "def set_seeds(seed):\n",
        "  os.environ[\"PYTHONHASHSEED\"] = str(seed)\n",
        "  random.seed(seed)\n",
        "  np.random.seed(seed)\n",
        "  tf.random.set_seed(seed)\n",
        "  os.environ[\"TF_DETERMINISTIC_OPS\"] = \"1\""
      ],
      "metadata": {
        "id": "sUVkxxamDQNG"
      },
      "execution_count": null,
      "outputs": []
    },
    {
      "cell_type": "code",
      "source": [
        "set_seeds(42)"
      ],
      "metadata": {
        "id": "5SjucoKbs5Gu"
      },
      "execution_count": null,
      "outputs": []
    },
    {
      "cell_type": "code",
      "source": [
        "# Load the data\n",
        "from google.colab import files\n",
        "import pandas as pd\n",
        "uploaded = files.upload()\n",
        "\n",
        "train_set = pd.read_csv('train.csv')\n",
        "test_set = pd.read_csv('test.csv')\n",
        "print(f\"Loaded {len(train_set)} rows\")\n",
        "print(f\"Loaded {len(test_set)} rows\")"
      ],
      "metadata": {
        "colab": {
          "base_uri": "https://localhost:8080/",
          "height": 142
        },
        "id": "6KF6rWn5Nwtx",
        "outputId": "203b3b3d-159b-4b72-d227-9d6e7db70f76"
      },
      "execution_count": null,
      "outputs": [
        {
          "output_type": "display_data",
          "data": {
            "text/plain": [
              "<IPython.core.display.HTML object>"
            ],
            "text/html": [
              "\n",
              "     <input type=\"file\" id=\"files-73b58d64-194a-47cc-bfb0-d74e95bfd47b\" name=\"files[]\" multiple disabled\n",
              "        style=\"border:none\" />\n",
              "     <output id=\"result-73b58d64-194a-47cc-bfb0-d74e95bfd47b\">\n",
              "      Upload widget is only available when the cell has been executed in the\n",
              "      current browser session. Please rerun this cell to enable.\n",
              "      </output>\n",
              "      <script>// Copyright 2017 Google LLC\n",
              "//\n",
              "// Licensed under the Apache License, Version 2.0 (the \"License\");\n",
              "// you may not use this file except in compliance with the License.\n",
              "// You may obtain a copy of the License at\n",
              "//\n",
              "//      http://www.apache.org/licenses/LICENSE-2.0\n",
              "//\n",
              "// Unless required by applicable law or agreed to in writing, software\n",
              "// distributed under the License is distributed on an \"AS IS\" BASIS,\n",
              "// WITHOUT WARRANTIES OR CONDITIONS OF ANY KIND, either express or implied.\n",
              "// See the License for the specific language governing permissions and\n",
              "// limitations under the License.\n",
              "\n",
              "/**\n",
              " * @fileoverview Helpers for google.colab Python module.\n",
              " */\n",
              "(function(scope) {\n",
              "function span(text, styleAttributes = {}) {\n",
              "  const element = document.createElement('span');\n",
              "  element.textContent = text;\n",
              "  for (const key of Object.keys(styleAttributes)) {\n",
              "    element.style[key] = styleAttributes[key];\n",
              "  }\n",
              "  return element;\n",
              "}\n",
              "\n",
              "// Max number of bytes which will be uploaded at a time.\n",
              "const MAX_PAYLOAD_SIZE = 100 * 1024;\n",
              "\n",
              "function _uploadFiles(inputId, outputId) {\n",
              "  const steps = uploadFilesStep(inputId, outputId);\n",
              "  const outputElement = document.getElementById(outputId);\n",
              "  // Cache steps on the outputElement to make it available for the next call\n",
              "  // to uploadFilesContinue from Python.\n",
              "  outputElement.steps = steps;\n",
              "\n",
              "  return _uploadFilesContinue(outputId);\n",
              "}\n",
              "\n",
              "// This is roughly an async generator (not supported in the browser yet),\n",
              "// where there are multiple asynchronous steps and the Python side is going\n",
              "// to poll for completion of each step.\n",
              "// This uses a Promise to block the python side on completion of each step,\n",
              "// then passes the result of the previous step as the input to the next step.\n",
              "function _uploadFilesContinue(outputId) {\n",
              "  const outputElement = document.getElementById(outputId);\n",
              "  const steps = outputElement.steps;\n",
              "\n",
              "  const next = steps.next(outputElement.lastPromiseValue);\n",
              "  return Promise.resolve(next.value.promise).then((value) => {\n",
              "    // Cache the last promise value to make it available to the next\n",
              "    // step of the generator.\n",
              "    outputElement.lastPromiseValue = value;\n",
              "    return next.value.response;\n",
              "  });\n",
              "}\n",
              "\n",
              "/**\n",
              " * Generator function which is called between each async step of the upload\n",
              " * process.\n",
              " * @param {string} inputId Element ID of the input file picker element.\n",
              " * @param {string} outputId Element ID of the output display.\n",
              " * @return {!Iterable<!Object>} Iterable of next steps.\n",
              " */\n",
              "function* uploadFilesStep(inputId, outputId) {\n",
              "  const inputElement = document.getElementById(inputId);\n",
              "  inputElement.disabled = false;\n",
              "\n",
              "  const outputElement = document.getElementById(outputId);\n",
              "  outputElement.innerHTML = '';\n",
              "\n",
              "  const pickedPromise = new Promise((resolve) => {\n",
              "    inputElement.addEventListener('change', (e) => {\n",
              "      resolve(e.target.files);\n",
              "    });\n",
              "  });\n",
              "\n",
              "  const cancel = document.createElement('button');\n",
              "  inputElement.parentElement.appendChild(cancel);\n",
              "  cancel.textContent = 'Cancel upload';\n",
              "  const cancelPromise = new Promise((resolve) => {\n",
              "    cancel.onclick = () => {\n",
              "      resolve(null);\n",
              "    };\n",
              "  });\n",
              "\n",
              "  // Wait for the user to pick the files.\n",
              "  const files = yield {\n",
              "    promise: Promise.race([pickedPromise, cancelPromise]),\n",
              "    response: {\n",
              "      action: 'starting',\n",
              "    }\n",
              "  };\n",
              "\n",
              "  cancel.remove();\n",
              "\n",
              "  // Disable the input element since further picks are not allowed.\n",
              "  inputElement.disabled = true;\n",
              "\n",
              "  if (!files) {\n",
              "    return {\n",
              "      response: {\n",
              "        action: 'complete',\n",
              "      }\n",
              "    };\n",
              "  }\n",
              "\n",
              "  for (const file of files) {\n",
              "    const li = document.createElement('li');\n",
              "    li.append(span(file.name, {fontWeight: 'bold'}));\n",
              "    li.append(span(\n",
              "        `(${file.type || 'n/a'}) - ${file.size} bytes, ` +\n",
              "        `last modified: ${\n",
              "            file.lastModifiedDate ? file.lastModifiedDate.toLocaleDateString() :\n",
              "                                    'n/a'} - `));\n",
              "    const percent = span('0% done');\n",
              "    li.appendChild(percent);\n",
              "\n",
              "    outputElement.appendChild(li);\n",
              "\n",
              "    const fileDataPromise = new Promise((resolve) => {\n",
              "      const reader = new FileReader();\n",
              "      reader.onload = (e) => {\n",
              "        resolve(e.target.result);\n",
              "      };\n",
              "      reader.readAsArrayBuffer(file);\n",
              "    });\n",
              "    // Wait for the data to be ready.\n",
              "    let fileData = yield {\n",
              "      promise: fileDataPromise,\n",
              "      response: {\n",
              "        action: 'continue',\n",
              "      }\n",
              "    };\n",
              "\n",
              "    // Use a chunked sending to avoid message size limits. See b/62115660.\n",
              "    let position = 0;\n",
              "    do {\n",
              "      const length = Math.min(fileData.byteLength - position, MAX_PAYLOAD_SIZE);\n",
              "      const chunk = new Uint8Array(fileData, position, length);\n",
              "      position += length;\n",
              "\n",
              "      const base64 = btoa(String.fromCharCode.apply(null, chunk));\n",
              "      yield {\n",
              "        response: {\n",
              "          action: 'append',\n",
              "          file: file.name,\n",
              "          data: base64,\n",
              "        },\n",
              "      };\n",
              "\n",
              "      let percentDone = fileData.byteLength === 0 ?\n",
              "          100 :\n",
              "          Math.round((position / fileData.byteLength) * 100);\n",
              "      percent.textContent = `${percentDone}% done`;\n",
              "\n",
              "    } while (position < fileData.byteLength);\n",
              "  }\n",
              "\n",
              "  // All done.\n",
              "  yield {\n",
              "    response: {\n",
              "      action: 'complete',\n",
              "    }\n",
              "  };\n",
              "}\n",
              "\n",
              "scope.google = scope.google || {};\n",
              "scope.google.colab = scope.google.colab || {};\n",
              "scope.google.colab._files = {\n",
              "  _uploadFiles,\n",
              "  _uploadFilesContinue,\n",
              "};\n",
              "})(self);\n",
              "</script> "
            ]
          },
          "metadata": {}
        },
        {
          "output_type": "stream",
          "name": "stdout",
          "text": [
            "Saving test.csv to test.csv\n",
            "Saving train.csv to train.csv\n",
            "Loaded 2352 rows\n",
            "Loaded 3370 rows\n"
          ]
        }
      ]
    },
    {
      "cell_type": "code",
      "source": [
        "def data_preprocessing(seed, train_path='train.csv', test_path='test.csv'):\n",
        "    \"\"\"\n",
        "    Load and split data into train/val/test sets\n",
        "    Returns: (train_set, val_set, test_set)\n",
        "    \"\"\"\n",
        "    # Load data\n",
        "    train = pd.read_csv(train_path)\n",
        "    test = pd.read_csv(test_path)\n",
        "\n",
        "    X_train = train['FASTA']\n",
        "    y_train = train['label']\n",
        "\n",
        "    # Split train into train/val\n",
        "    X_train, X_val, y_train, y_val = train_test_split(\n",
        "        X_train, y_train,\n",
        "        test_size=0.2,\n",
        "        random_state=seed,\n",
        "        stratify=y_train\n",
        "    )\n",
        "\n",
        "    # Create TensorFlow Datasets\n",
        "    train_set = tf.data.Dataset.from_tensor_slices((X_train.values, y_train.values))\n",
        "    train_set = train_set.shuffle(5000, seed=seed).batch(32).prefetch(1)\n",
        "\n",
        "    val_set = tf.data.Dataset.from_tensor_slices((X_val.values, y_val.values))\n",
        "    val_set = val_set.batch(32).prefetch(1)\n",
        "\n",
        "    test_set = tf.data.Dataset.from_tensor_slices((test['FASTA'].values, test['label'].values))\n",
        "    test_set = test_set.batch(32).prefetch(1)\n",
        "\n",
        "    return train_set, val_set, test_set"
      ],
      "metadata": {
        "id": "pqv4HUsyNWGj"
      },
      "execution_count": null,
      "outputs": []
    },
    {
      "cell_type": "code",
      "source": [
        "def build_text_vectorizer(train_text, max_tokens=30, seq_length=50):\n",
        "    \"\"\"Create and adapt text vectorization layer\"\"\"\n",
        "    text_vec_layer = TextVectorization(\n",
        "        max_tokens=max_tokens,\n",
        "        output_sequence_length=seq_length,\n",
        "        split=\"character\",\n",
        "        pad_to_max_tokens=True\n",
        "    )\n",
        "    text_vec_layer.adapt(train_text)\n",
        "    return text_vec_layer"
      ],
      "metadata": {
        "id": "r_lLsEVnN78f"
      },
      "execution_count": null,
      "outputs": []
    },
    {
      "cell_type": "code",
      "source": [
        "class LNSimpleRNNCell(tf.keras.layers.Layer):\n",
        "    def __init__(self, units, activation=\"tanh\", **kwargs):\n",
        "        super().__init__(**kwargs)\n",
        "        self.state_size = units\n",
        "        self.output_size = units\n",
        "        self.simple_rnn_cell = tf.keras.layers.SimpleRNNCell(units,\n",
        "                                                             activation=None)\n",
        "        self.layer_norm = tf.keras.layers.LayerNormalization()\n",
        "        self.activation = tf.keras.activations.get(activation)\n",
        "\n",
        "    def call(self, inputs, states):\n",
        "        outputs, new_states = self.simple_rnn_cell(inputs, states)\n",
        "        norm_outputs = self.activation(self.layer_norm(outputs))\n",
        "        return norm_outputs, [norm_outputs]\n"
      ],
      "metadata": {
        "id": "Bbk_s-1Rc3pf"
      },
      "execution_count": null,
      "outputs": []
    },
    {
      "cell_type": "code",
      "source": [
        "class Attention(tf.keras.layers.Layer):\n",
        "    def __init__(self):\n",
        "        super().__init__()\n",
        "\n",
        "    def call(self, inputs):\n",
        "        score = tf.nn.tanh(inputs)  # shape: (batch_size, timesteps, features)\n",
        "        weights = tf.nn.softmax(score, axis=1)  # attention weights\n",
        "        context = tf.reduce_sum(inputs * weights, axis=1)  # weighted sum\n",
        "        return context\n",
        "# might take this out if im not using it"
      ],
      "metadata": {
        "id": "SEA1WX9plZh7"
      },
      "execution_count": null,
      "outputs": []
    },
    {
      "cell_type": "code",
      "source": [
        "# BEST MODEL USE THIS ONE\n",
        "# Testing: remove max pooling\n",
        "# Remove batching norm + increase learning rate + decrease epochs: worse results\n",
        "\n",
        "def build_improved_model(text_vec_layer, embed_size=128):\n",
        "    vocab_size = len(text_vec_layer.get_vocabulary())\n",
        "\n",
        "    model = tf.keras.Sequential([\n",
        "        text_vec_layer,\n",
        "        tf.keras.layers.Embedding(vocab_size, embed_size, mask_zero=True),\n",
        "\n",
        "        # tf.keras.layers.Conv1D(filters=64, kernel_size=3, activation='relu', padding='same'),\n",
        "        #tf.keras.layers.MaxPooling1D(pool_size=2),\n",
        "\n",
        "        tf.keras.layers.RNN(LNSimpleRNNCell(128), return_sequences=True),\n",
        "        tf.keras.layers.GRU(64, return_sequences=True),\n",
        "        # Attention(),\n",
        "        tf.keras.layers.Lambda(lambda x: tf.reduce_sum(x * tf.nn.softmax(x, axis=1), axis=1)),\n",
        "\n",
        "        # tf.keras.layers.GlobalAveragePooling1D(),\n",
        "        tf.keras.layers.Dense(64, activation='relu'),\n",
        "        tf.keras.layers.Dense(64, activation='relu'),\n",
        "        # tf.keras.layers.LayerNormalization(),\n",
        "        #tf.keras.layers.BatchNormalization(),\n",
        "        tf.keras.layers.Dense(1, activation=\"sigmoid\")\n",
        "    ])\n",
        "\n",
        "    model.compile(\n",
        "        loss=\"binary_crossentropy\",\n",
        "        optimizer=tf.keras.optimizers.AdamW(learning_rate=0.001),\n",
        "        metrics=[\n",
        "            AUC(name='roc_auc', curve='ROC'),\n",
        "            AUC(name='pr_auc', curve='PR')\n",
        "        ]\n",
        "    )\n",
        "    return model"
      ],
      "metadata": {
        "id": "AWzVU5RXlEor"
      },
      "execution_count": null,
      "outputs": []
    },
    {
      "cell_type": "code",
      "source": [
        "# Fourth BEST MODEL\n",
        "# Mean ROC-AUC: 0.821\n",
        "# Standard Deviation ROC-AUC: 0.014\n",
        "# Mean PR-AUC: 0.470\n",
        "# Standard Deviation PR-AUC: 0.029\n",
        "\n",
        "def build_improved_model(text_vec_layer, embed_size=128):\n",
        "    vocab_size = len(text_vec_layer.get_vocabulary())\n",
        "\n",
        "    model = tf.keras.Sequential([\n",
        "        text_vec_layer,\n",
        "        tf.keras.layers.Embedding(vocab_size, embed_size, mask_zero=True),\n",
        "\n",
        "        tf.keras.layers.Conv1D(filters=64, kernel_size=3, activation='relu', padding='same'),\n",
        "        tf.keras.layers.MaxPooling1D(pool_size=2),\n",
        "\n",
        "        tf.keras.layers.RNN(LNSimpleRNNCell(128), return_sequences=True),\n",
        "\n",
        "        tf.keras.layers.GRU(64, return_sequences=True),\n",
        "        tf.keras.layers.Lambda(lambda x: tf.reduce_sum(x * tf.nn.softmax(x, axis=1), axis=1)),\n",
        "        #tf.keras.layers.GlobalAveragePooling1D(),\n",
        "\n",
        "        tf.keras.layers.Dense(64, activation='relu'),\n",
        "        tf.keras.layers.Dropout(0.3),\n",
        "        #tf.keras.layers.BatchNormalization(),\n",
        "\n",
        "        tf.keras.layers.Dense(1, activation=\"sigmoid\")\n",
        "    ])\n",
        "\n",
        "    model.compile(\n",
        "        loss=\"binary_crossentropy\",\n",
        "        optimizer=tf.keras.optimizers.Nadam(learning_rate=0.001, clipnorm=1.0),\n",
        "        metrics=[\n",
        "            AUC(name='roc_auc', curve='ROC'),\n",
        "            AUC(name='pr_auc', curve='PR')\n",
        "        ]\n",
        "    )\n",
        "    return model"
      ],
      "metadata": {
        "id": "nehOZLTp4JgG"
      },
      "execution_count": null,
      "outputs": []
    },
    {
      "cell_type": "code",
      "source": [
        "# Third best Model\n",
        "# adding more dense layer\n",
        "# Mean ROC-AUC: 0.823\n",
        "# Standard Deviation ROC-AUC: 0.015\n",
        "# Mean PR-AUC: 0.461\n",
        "# Standard Deviation PR-AUC: 0.036\n",
        "\n",
        "def build_improved_model(text_vec_layer, embed_size=128):\n",
        "    vocab_size = len(text_vec_layer.get_vocabulary())\n",
        "\n",
        "    model = tf.keras.Sequential([\n",
        "        text_vec_layer,\n",
        "        tf.keras.layers.Embedding(vocab_size, embed_size, mask_zero=True),\n",
        "\n",
        "        tf.keras.layers.Conv1D(filters=64, kernel_size=3, activation='relu', padding='same'),\n",
        "        tf.keras.layers.MaxPooling1D(pool_size=2),\n",
        "\n",
        "        tf.keras.layers.RNN(LNSimpleRNNCell(128), return_sequences=True),\n",
        "\n",
        "        tf.keras.layers.GRU(64, return_sequences=True),\n",
        "        tf.keras.layers.Lambda(lambda x: tf.reduce_sum(x * tf.nn.softmax(x, axis=1), axis=1)),\n",
        "\n",
        "        #tf.keras.layers.GlobalAveragePooling1D(),\n",
        "\n",
        "        tf.keras.layers.Dense(64, activation='relu'),\n",
        "        tf.keras.layers.Dense(64, activation='relu'),\n",
        "        #tf.keras.layers.Dropout(0.3),\n",
        "        #tf.keras.layers.BatchNormalization(),\n",
        "\n",
        "        tf.keras.layers.Dense(1, activation=\"sigmoid\")\n",
        "    ])\n",
        "\n",
        "    model.compile(\n",
        "        loss=\"binary_crossentropy\",\n",
        "        optimizer=tf.keras.optimizers.Nadam(learning_rate=0.001, clipnorm=1.0),\n",
        "        metrics=[\n",
        "            AUC(name='roc_auc', curve='ROC'),\n",
        "            AUC(name='pr_auc', curve='PR')\n",
        "        ]\n",
        "    )\n",
        "    return model"
      ],
      "metadata": {
        "id": "P1SdSZ--PrV6"
      },
      "execution_count": null,
      "outputs": []
    },
    {
      "cell_type": "code",
      "source": [
        "# Second BEST MODEL\n",
        "# Mean ROC-AUC: 0.827\n",
        "# Standard Deviation ROC-AUC: 0.015\n",
        "# Mean PR-AUC: 0.459\n",
        "# Standard Deviation PR-AUC: 0.037\n",
        "\n",
        "\n",
        "def build_improved_model(text_vec_layer, embed_size=128):\n",
        "    vocab_size = len(text_vec_layer.get_vocabulary())\n",
        "\n",
        "    model = tf.keras.Sequential([\n",
        "        text_vec_layer,\n",
        "        tf.keras.layers.Embedding(vocab_size, embed_size, mask_zero=True),\n",
        "\n",
        "        tf.keras.layers.Conv1D(filters=64, kernel_size=3, activation='relu', padding='same'),\n",
        "        tf.keras.layers.MaxPooling1D(pool_size=2),\n",
        "\n",
        "        tf.keras.layers.RNN(LNSimpleRNNCell(128), return_sequences=True),\n",
        "\n",
        "        tf.keras.layers.GRU(64, return_sequences=True),\n",
        "        tf.keras.layers.Lambda(lambda x: tf.reduce_sum(x * tf.nn.softmax(x, axis=1), axis=1)),\n",
        "\n",
        "        # tf.keras.layers.GlobalAveragePooling1D(),\n",
        "\n",
        "        tf.keras.layers.Dense(64, activation='relu'),\n",
        "        tf.keras.layers.Dense(64, activation='relu'),\n",
        "        # tf.keras.layers.Dropout(0.3),\n",
        "        #tf.keras.layers.BatchNormalization(),\n",
        "\n",
        "        tf.keras.layers.Dense(1, activation=\"sigmoid\")\n",
        "    ])\n",
        "\n",
        "    model.compile(\n",
        "        loss=\"binary_crossentropy\",\n",
        "        optimizer=tf.keras.optimizers.RMSprop(learning_rate=0.001, rho=0.9),\n",
        "        metrics=[\n",
        "            AUC(name='roc_auc', curve='ROC'),\n",
        "            AUC(name='pr_auc', curve='PR')\n",
        "        ]\n",
        "    )\n",
        "    return model"
      ],
      "metadata": {
        "id": "yI5PgBTtXxkX"
      },
      "execution_count": null,
      "outputs": []
    },
    {
      "cell_type": "code",
      "source": [
        "# BEST MODEL\n",
        "#Mean ROC-AUC: 0.827\n",
        "#Standard Deviation ROC-AUC: 0.006\n",
        "#Mean PR-AUC: 0.475\n",
        "#Standard Deviation PR-AUC: 0.026\n",
        "\n",
        "def build_improved_model(text_vec_layer, embed_size=128):\n",
        "    vocab_size = len(text_vec_layer.get_vocabulary())\n",
        "\n",
        "    model = tf.keras.Sequential([\n",
        "        text_vec_layer,\n",
        "        tf.keras.layers.Embedding(vocab_size, embed_size, mask_zero=True),\n",
        "\n",
        "        tf.keras.layers.Conv1D(filters=64, kernel_size=3, activation='relu', padding='same'),\n",
        "        tf.keras.layers.MaxPooling1D(pool_size=2),\n",
        "\n",
        "        tf.keras.layers.RNN(LNSimpleRNNCell(128), return_sequences=True),\n",
        "\n",
        "        tf.keras.layers.GRU(64, return_sequences=True),\n",
        "        tf.keras.layers.Lambda(lambda x: tf.reduce_sum(x * tf.nn.softmax(x, axis=1), axis=1)),\n",
        "\n",
        "        # tf.keras.layers.GlobalAveragePooling1D(),\n",
        "\n",
        "        tf.keras.layers.Dense(64, activation='relu'),\n",
        "        tf.keras.layers.Dense(64, activation='relu'),\n",
        "        # tf.keras.layers.Dropout(0.3),\n",
        "        #tf.keras.layers.BatchNormalization(),\n",
        "\n",
        "        tf.keras.layers.Dense(1, activation=\"sigmoid\")\n",
        "    ])\n",
        "\n",
        "    model.compile(\n",
        "        loss=\"binary_crossentropy\",\n",
        "        optimizer=tf.keras.optimizers.AdamW(learning_rate=0.001),\n",
        "        metrics=[\n",
        "            AUC(name='roc_auc', curve='ROC'),\n",
        "            AUC(name='pr_auc', curve='PR')\n",
        "        ]\n",
        "    )\n",
        "    return model"
      ],
      "metadata": {
        "id": "e2QNABftcsW3"
      },
      "execution_count": null,
      "outputs": []
    },
    {
      "cell_type": "code",
      "source": [
        "def train_model(model, train_set, val_set, callbacks, epochs=30):\n",
        "    \"\"\"Train model and return training history\"\"\"\n",
        "    if callbacks is None:\n",
        "        callbacks = []\n",
        "\n",
        "    history = model.fit(\n",
        "        train_set,\n",
        "        validation_data=val_set,\n",
        "        epochs=epochs,\n",
        "        #shuffle=False,\n",
        "        callbacks=callbacks,\n",
        "        verbose=1\n",
        "    )\n",
        "    return history"
      ],
      "metadata": {
        "id": "ZhVfH3qxOQNe"
      },
      "execution_count": null,
      "outputs": []
    },
    {
      "cell_type": "code",
      "source": [
        "def evaluate_model(model, test_set, verbose=True):\n",
        "    \"\"\"Evaluate model on test set and return metrics.\"\"\"\n",
        "    test_loss, test_roc_auc, test_pr_auc = model.evaluate(test_set, verbose=0)\n",
        "\n",
        "    metrics = {\n",
        "        'loss': test_loss,\n",
        "        'roc_auc': test_roc_auc,\n",
        "        'pr_auc': test_pr_auc\n",
        "    }\n",
        "\n",
        "\n",
        "    if verbose:\n",
        "        print(\"\\n\" + \"=\"*50)\n",
        "        # print(f\"\\n=== Running Trial with seed {seed} ===\")\n",
        "        print(\"-\"*50)\n",
        "        print(f\"Test Loss:       {test_loss:.4f}\")\n",
        "        print(f\"Test ROC-AUC:    {test_roc_auc:.4f}\")\n",
        "        print(f\"Test PR-AUC:     {test_pr_auc:.4f}\")\n",
        "        print(\"=\"*50 + \"\\n\")\n",
        "\n",
        "    return metrics"
      ],
      "metadata": {
        "id": "vBZYz9WfOas2"
      },
      "execution_count": null,
      "outputs": []
    },
    {
      "cell_type": "code",
      "source": [
        "def run_experiment(seed):\n",
        "    \"\"\"Complete training pipeline for one seed\"\"\"\n",
        "    print(f\"\\n=== Running Trial with seed {seed} ===\")\n",
        "    set_seeds(seed)\n",
        "\n",
        "    train_set, val_set, test_set = data_preprocessing(seed)\n",
        "    train_text = pd.read_csv('train.csv')['FASTA']\n",
        "    text_vec_layer = build_text_vectorizer(train_text)\n",
        "    model = build_improved_model(text_vec_layer)\n",
        "\n",
        "    reduce_lr = tf.keras.callbacks.ReduceLROnPlateau(\n",
        "        monitor='val_roc_auc',\n",
        "        mode='max',\n",
        "        factor=0.5,\n",
        "        patience=2,\n",
        "        min_lr=1e-6,\n",
        "    )\n",
        "\n",
        "    checkpoint_cb = ModelCheckpoint(\n",
        "        \"best_model.weights.h5\",\n",
        "        monitor='val_roc_auc',\n",
        "        mode='max',\n",
        "        save_best_only=True,\n",
        "        save_weights_only=True,\n",
        "    )\n",
        "\n",
        "    early_stopping_cb = EarlyStopping(\n",
        "        monitor='val_roc_auc',\n",
        "        mode='max',\n",
        "        patience=3,\n",
        "        restore_best_weights=True,\n",
        "    )\n",
        "\n",
        "    callbacks = [checkpoint_cb, early_stopping_cb, reduce_lr]\n",
        "    history = train_model(model, train_set, val_set, callbacks)\n",
        "\n",
        "    metrics = evaluate_model(model, test_set, seed)\n",
        "\n",
        "    return history, metrics"
      ],
      "metadata": {
        "id": "7pWu3TqlUH71"
      },
      "execution_count": null,
      "outputs": []
    },
    {
      "cell_type": "code",
      "source": [
        "# Execution of reproducible results\n",
        "SEEDS = [1,2,3,4,5]\n",
        "roc_auc_scores = []\n",
        "pr_auc_scores = []\n",
        "\n",
        "for seed in SEEDS:\n",
        "    _, metrics = run_experiment(seed)\n",
        "    roc_auc_scores.append(metrics['roc_auc'])\n",
        "    pr_auc_scores.append(metrics['pr_auc'])"
      ],
      "metadata": {
        "colab": {
          "base_uri": "https://localhost:8080/",
          "height": 1000
        },
        "id": "hJ8RhAo3OnPQ",
        "outputId": "3b6c0f36-8ab8-4de6-f3ae-5839ced9add1"
      },
      "execution_count": null,
      "outputs": [
        {
          "output_type": "stream",
          "name": "stdout",
          "text": [
            "\n",
            "=== Running Trial with seed 1 ===\n",
            "Epoch 1/30\n"
          ]
        },
        {
          "output_type": "stream",
          "name": "stderr",
          "text": [
            "/usr/local/lib/python3.11/dist-packages/keras/src/layers/layer.py:393: UserWarning: `build()` was called on layer 'ln_simple_rnn_cell_51', however the layer does not have a `build()` method implemented and it looks like it has unbuilt state. This will cause the layer to be marked as built, despite not being actually built, which may cause failures down the line. Make sure to implement a proper `build()` method.\n",
            "  warnings.warn(\n",
            "/usr/local/lib/python3.11/dist-packages/keras/src/layers/layer.py:938: UserWarning: Layer 'lambda_44' (of type Lambda) was passed an input with a mask attached to it. However, this layer does not support masking and will therefore destroy the mask information. Downstream layers will not see the mask.\n",
            "  warnings.warn(\n"
          ]
        },
        {
          "output_type": "stream",
          "name": "stdout",
          "text": [
            "\u001b[1m59/59\u001b[0m \u001b[32m━━━━━━━━━━━━━━━━━━━━\u001b[0m\u001b[37m\u001b[0m \u001b[1m15s\u001b[0m 101ms/step - loss: 0.6476 - pr_auc: 0.6845 - roc_auc: 0.6712 - val_loss: 0.6021 - val_pr_auc: 0.7781 - val_roc_auc: 0.7560 - learning_rate: 0.0010\n",
            "Epoch 2/30\n",
            "\u001b[1m59/59\u001b[0m \u001b[32m━━━━━━━━━━━━━━━━━━━━\u001b[0m\u001b[37m\u001b[0m \u001b[1m5s\u001b[0m 93ms/step - loss: 0.5737 - pr_auc: 0.7959 - roc_auc: 0.7788 - val_loss: 0.5630 - val_pr_auc: 0.7990 - val_roc_auc: 0.7759 - learning_rate: 0.0010\n",
            "Epoch 3/30\n",
            "\u001b[1m59/59\u001b[0m \u001b[32m━━━━━━━━━━━━━━━━━━━━\u001b[0m\u001b[37m\u001b[0m \u001b[1m5s\u001b[0m 87ms/step - loss: 0.5185 - pr_auc: 0.8392 - roc_auc: 0.8198 - val_loss: 0.5263 - val_pr_auc: 0.8406 - val_roc_auc: 0.8220 - learning_rate: 0.0010\n",
            "Epoch 4/30\n",
            "\u001b[1m59/59\u001b[0m \u001b[32m━━━━━━━━━━━━━━━━━━━━\u001b[0m\u001b[37m\u001b[0m \u001b[1m5s\u001b[0m 81ms/step - loss: 0.4704 - pr_auc: 0.8574 - roc_auc: 0.8538 - val_loss: 0.5197 - val_pr_auc: 0.8403 - val_roc_auc: 0.8240 - learning_rate: 0.0010\n",
            "Epoch 5/30\n",
            "\u001b[1m59/59\u001b[0m \u001b[32m━━━━━━━━━━━━━━━━━━━━\u001b[0m\u001b[37m\u001b[0m \u001b[1m6s\u001b[0m 100ms/step - loss: 0.4347 - pr_auc: 0.8863 - roc_auc: 0.8807 - val_loss: 0.4867 - val_pr_auc: 0.8628 - val_roc_auc: 0.8439 - learning_rate: 0.0010\n",
            "Epoch 6/30\n",
            "\u001b[1m59/59\u001b[0m \u001b[32m━━━━━━━━━━━━━━━━━━━━\u001b[0m\u001b[37m\u001b[0m \u001b[1m10s\u001b[0m 100ms/step - loss: 0.4234 - pr_auc: 0.8915 - roc_auc: 0.8872 - val_loss: 0.4996 - val_pr_auc: 0.8507 - val_roc_auc: 0.8401 - learning_rate: 0.0010\n",
            "Epoch 7/30\n",
            "\u001b[1m59/59\u001b[0m \u001b[32m━━━━━━━━━━━━━━━━━━━━\u001b[0m\u001b[37m\u001b[0m \u001b[1m5s\u001b[0m 80ms/step - loss: 0.4032 - pr_auc: 0.8998 - roc_auc: 0.8972 - val_loss: 0.4733 - val_pr_auc: 0.8640 - val_roc_auc: 0.8539 - learning_rate: 0.0010\n",
            "Epoch 8/30\n",
            "\u001b[1m59/59\u001b[0m \u001b[32m━━━━━━━━━━━━━━━━━━━━\u001b[0m\u001b[37m\u001b[0m \u001b[1m5s\u001b[0m 80ms/step - loss: 0.3700 - pr_auc: 0.9138 - roc_auc: 0.9156 - val_loss: 0.4882 - val_pr_auc: 0.8640 - val_roc_auc: 0.8469 - learning_rate: 0.0010\n",
            "Epoch 9/30\n",
            "\u001b[1m59/59\u001b[0m \u001b[32m━━━━━━━━━━━━━━━━━━━━\u001b[0m\u001b[37m\u001b[0m \u001b[1m6s\u001b[0m 99ms/step - loss: 0.3981 - pr_auc: 0.8993 - roc_auc: 0.9004 - val_loss: 0.4879 - val_pr_auc: 0.8677 - val_roc_auc: 0.8524 - learning_rate: 0.0010\n",
            "Epoch 10/30\n",
            "\u001b[1m59/59\u001b[0m \u001b[32m━━━━━━━━━━━━━━━━━━━━\u001b[0m\u001b[37m\u001b[0m \u001b[1m10s\u001b[0m 100ms/step - loss: 0.3462 - pr_auc: 0.9278 - roc_auc: 0.9265 - val_loss: 0.5003 - val_pr_auc: 0.8688 - val_roc_auc: 0.8565 - learning_rate: 5.0000e-04\n",
            "Epoch 11/30\n",
            "\u001b[1m59/59\u001b[0m \u001b[32m━━━━━━━━━━━━━━━━━━━━\u001b[0m\u001b[37m\u001b[0m \u001b[1m5s\u001b[0m 80ms/step - loss: 0.3069 - pr_auc: 0.9430 - roc_auc: 0.9447 - val_loss: 0.5091 - val_pr_auc: 0.8665 - val_roc_auc: 0.8510 - learning_rate: 5.0000e-04\n",
            "Epoch 12/30\n",
            "\u001b[1m59/59\u001b[0m \u001b[32m━━━━━━━━━━━━━━━━━━━━\u001b[0m\u001b[37m\u001b[0m \u001b[1m5s\u001b[0m 80ms/step - loss: 0.2708 - pr_auc: 0.9585 - roc_auc: 0.9575 - val_loss: 0.5141 - val_pr_auc: 0.8667 - val_roc_auc: 0.8526 - learning_rate: 5.0000e-04\n",
            "Epoch 13/30\n",
            "\u001b[1m59/59\u001b[0m \u001b[32m━━━━━━━━━━━━━━━━━━━━\u001b[0m\u001b[37m\u001b[0m \u001b[1m6s\u001b[0m 92ms/step - loss: 0.2585 - pr_auc: 0.9608 - roc_auc: 0.9622 - val_loss: 0.5808 - val_pr_auc: 0.8657 - val_roc_auc: 0.8518 - learning_rate: 2.5000e-04\n",
            "\n",
            "==================================================\n",
            "--------------------------------------------------\n",
            "Test Loss:       0.5995\n",
            "Test ROC-AUC:    0.7628\n",
            "Test PR-AUC:     0.4906\n",
            "==================================================\n",
            "\n",
            "\n",
            "=== Running Trial with seed 2 ===\n",
            "Epoch 1/30\n"
          ]
        },
        {
          "output_type": "stream",
          "name": "stderr",
          "text": [
            "/usr/local/lib/python3.11/dist-packages/keras/src/layers/layer.py:393: UserWarning: `build()` was called on layer 'ln_simple_rnn_cell_52', however the layer does not have a `build()` method implemented and it looks like it has unbuilt state. This will cause the layer to be marked as built, despite not being actually built, which may cause failures down the line. Make sure to implement a proper `build()` method.\n",
            "  warnings.warn(\n",
            "/usr/local/lib/python3.11/dist-packages/keras/src/layers/layer.py:938: UserWarning: Layer 'lambda_45' (of type Lambda) was passed an input with a mask attached to it. However, this layer does not support masking and will therefore destroy the mask information. Downstream layers will not see the mask.\n",
            "  warnings.warn(\n"
          ]
        },
        {
          "output_type": "stream",
          "name": "stdout",
          "text": [
            "\u001b[1m59/59\u001b[0m \u001b[32m━━━━━━━━━━━━━━━━━━━━\u001b[0m\u001b[37m\u001b[0m \u001b[1m14s\u001b[0m 99ms/step - loss: 0.6533 - pr_auc: 0.6626 - roc_auc: 0.6610 - val_loss: 0.6081 - val_pr_auc: 0.7442 - val_roc_auc: 0.7260 - learning_rate: 0.0010\n",
            "Epoch 2/30\n",
            "\u001b[1m59/59\u001b[0m \u001b[32m━━━━━━━━━━━━━━━━━━━━\u001b[0m\u001b[37m\u001b[0m \u001b[1m9s\u001b[0m 80ms/step - loss: 0.5684 - pr_auc: 0.7930 - roc_auc: 0.7822 - val_loss: 0.5981 - val_pr_auc: 0.7948 - val_roc_auc: 0.7837 - learning_rate: 0.0010\n",
            "Epoch 3/30\n",
            "\u001b[1m59/59\u001b[0m \u001b[32m━━━━━━━━━━━━━━━━━━━━\u001b[0m\u001b[37m\u001b[0m \u001b[1m5s\u001b[0m 80ms/step - loss: 0.5246 - pr_auc: 0.8354 - roc_auc: 0.8160 - val_loss: 0.5306 - val_pr_auc: 0.8252 - val_roc_auc: 0.8119 - learning_rate: 0.0010\n",
            "Epoch 4/30\n",
            "\u001b[1m59/59\u001b[0m \u001b[32m━━━━━━━━━━━━━━━━━━━━\u001b[0m\u001b[37m\u001b[0m \u001b[1m7s\u001b[0m 122ms/step - loss: 0.4779 - pr_auc: 0.8627 - roc_auc: 0.8544 - val_loss: 0.5050 - val_pr_auc: 0.8311 - val_roc_auc: 0.8385 - learning_rate: 0.0010\n",
            "Epoch 5/30\n",
            "\u001b[1m59/59\u001b[0m \u001b[32m━━━━━━━━━━━━━━━━━━━━\u001b[0m\u001b[37m\u001b[0m \u001b[1m10s\u001b[0m 109ms/step - loss: 0.4344 - pr_auc: 0.8851 - roc_auc: 0.8794 - val_loss: 0.5012 - val_pr_auc: 0.8455 - val_roc_auc: 0.8479 - learning_rate: 0.0010\n",
            "Epoch 6/30\n",
            "\u001b[1m59/59\u001b[0m \u001b[32m━━━━━━━━━━━━━━━━━━━━\u001b[0m\u001b[37m\u001b[0m \u001b[1m5s\u001b[0m 81ms/step - loss: 0.4520 - pr_auc: 0.8843 - roc_auc: 0.8709 - val_loss: 0.4847 - val_pr_auc: 0.8487 - val_roc_auc: 0.8507 - learning_rate: 0.0010\n",
            "Epoch 7/30\n",
            "\u001b[1m59/59\u001b[0m \u001b[32m━━━━━━━━━━━━━━━━━━━━\u001b[0m\u001b[37m\u001b[0m \u001b[1m6s\u001b[0m 108ms/step - loss: 0.4173 - pr_auc: 0.8992 - roc_auc: 0.8892 - val_loss: 0.5072 - val_pr_auc: 0.8290 - val_roc_auc: 0.8436 - learning_rate: 0.0010\n",
            "Epoch 8/30\n",
            "\u001b[1m59/59\u001b[0m \u001b[32m━━━━━━━━━━━━━━━━━━━━\u001b[0m\u001b[37m\u001b[0m \u001b[1m5s\u001b[0m 87ms/step - loss: 0.3904 - pr_auc: 0.9176 - roc_auc: 0.9049 - val_loss: 0.5239 - val_pr_auc: 0.8572 - val_roc_auc: 0.8581 - learning_rate: 0.0010\n",
            "Epoch 9/30\n",
            "\u001b[1m59/59\u001b[0m \u001b[32m━━━━━━━━━━━━━━━━━━━━\u001b[0m\u001b[37m\u001b[0m \u001b[1m5s\u001b[0m 79ms/step - loss: 0.4215 - pr_auc: 0.9004 - roc_auc: 0.8839 - val_loss: 0.5083 - val_pr_auc: 0.8455 - val_roc_auc: 0.8513 - learning_rate: 0.0010\n",
            "Epoch 10/30\n",
            "\u001b[1m59/59\u001b[0m \u001b[32m━━━━━━━━━━━━━━━━━━━━\u001b[0m\u001b[37m\u001b[0m \u001b[1m6s\u001b[0m 100ms/step - loss: 0.4324 - pr_auc: 0.8947 - roc_auc: 0.8785 - val_loss: 0.4959 - val_pr_auc: 0.8390 - val_roc_auc: 0.8581 - learning_rate: 0.0010\n",
            "Epoch 11/30\n",
            "\u001b[1m59/59\u001b[0m \u001b[32m━━━━━━━━━━━━━━━━━━━━\u001b[0m\u001b[37m\u001b[0m \u001b[1m10s\u001b[0m 98ms/step - loss: 0.4188 - pr_auc: 0.8994 - roc_auc: 0.8884 - val_loss: 0.4897 - val_pr_auc: 0.8509 - val_roc_auc: 0.8559 - learning_rate: 5.0000e-04\n",
            "Epoch 12/30\n",
            "\u001b[1m59/59\u001b[0m \u001b[32m━━━━━━━━━━━━━━━━━━━━\u001b[0m\u001b[37m\u001b[0m \u001b[1m10s\u001b[0m 89ms/step - loss: 0.3467 - pr_auc: 0.9334 - roc_auc: 0.9271 - val_loss: 0.5069 - val_pr_auc: 0.8496 - val_roc_auc: 0.8549 - learning_rate: 5.0000e-04\n",
            "Epoch 13/30\n"
          ]
        },
        {
          "output_type": "error",
          "ename": "KeyboardInterrupt",
          "evalue": "",
          "traceback": [
            "\u001b[0;31m---------------------------------------------------------------------------\u001b[0m",
            "\u001b[0;31mKeyboardInterrupt\u001b[0m                         Traceback (most recent call last)",
            "\u001b[0;32m<ipython-input-116-3ccfa319f870>\u001b[0m in \u001b[0;36m<cell line: 0>\u001b[0;34m()\u001b[0m\n\u001b[1;32m      5\u001b[0m \u001b[0;34m\u001b[0m\u001b[0m\n\u001b[1;32m      6\u001b[0m \u001b[0;32mfor\u001b[0m \u001b[0mseed\u001b[0m \u001b[0;32min\u001b[0m \u001b[0mSEEDS\u001b[0m\u001b[0;34m:\u001b[0m\u001b[0;34m\u001b[0m\u001b[0;34m\u001b[0m\u001b[0m\n\u001b[0;32m----> 7\u001b[0;31m     \u001b[0m_\u001b[0m\u001b[0;34m,\u001b[0m \u001b[0mmetrics\u001b[0m \u001b[0;34m=\u001b[0m \u001b[0mrun_experiment\u001b[0m\u001b[0;34m(\u001b[0m\u001b[0mseed\u001b[0m\u001b[0;34m)\u001b[0m\u001b[0;34m\u001b[0m\u001b[0;34m\u001b[0m\u001b[0m\n\u001b[0m\u001b[1;32m      8\u001b[0m     \u001b[0mroc_auc_scores\u001b[0m\u001b[0;34m.\u001b[0m\u001b[0mappend\u001b[0m\u001b[0;34m(\u001b[0m\u001b[0mmetrics\u001b[0m\u001b[0;34m[\u001b[0m\u001b[0;34m'roc_auc'\u001b[0m\u001b[0;34m]\u001b[0m\u001b[0;34m)\u001b[0m\u001b[0;34m\u001b[0m\u001b[0;34m\u001b[0m\u001b[0m\n\u001b[1;32m      9\u001b[0m     \u001b[0mpr_auc_scores\u001b[0m\u001b[0;34m.\u001b[0m\u001b[0mappend\u001b[0m\u001b[0;34m(\u001b[0m\u001b[0mmetrics\u001b[0m\u001b[0;34m[\u001b[0m\u001b[0;34m'pr_auc'\u001b[0m\u001b[0;34m]\u001b[0m\u001b[0;34m)\u001b[0m\u001b[0;34m\u001b[0m\u001b[0;34m\u001b[0m\u001b[0m\n",
            "\u001b[0;32m<ipython-input-115-e62b56e095f5>\u001b[0m in \u001b[0;36mrun_experiment\u001b[0;34m(seed)\u001b[0m\n\u001b[1;32m     33\u001b[0m \u001b[0;34m\u001b[0m\u001b[0m\n\u001b[1;32m     34\u001b[0m     \u001b[0mcallbacks\u001b[0m \u001b[0;34m=\u001b[0m \u001b[0;34m[\u001b[0m\u001b[0mcheckpoint_cb\u001b[0m\u001b[0;34m,\u001b[0m \u001b[0mearly_stopping_cb\u001b[0m\u001b[0;34m,\u001b[0m \u001b[0mreduce_lr\u001b[0m\u001b[0;34m]\u001b[0m\u001b[0;34m\u001b[0m\u001b[0;34m\u001b[0m\u001b[0m\n\u001b[0;32m---> 35\u001b[0;31m     \u001b[0mhistory\u001b[0m \u001b[0;34m=\u001b[0m \u001b[0mtrain_model\u001b[0m\u001b[0;34m(\u001b[0m\u001b[0mmodel\u001b[0m\u001b[0;34m,\u001b[0m \u001b[0mtrain_set\u001b[0m\u001b[0;34m,\u001b[0m \u001b[0mval_set\u001b[0m\u001b[0;34m,\u001b[0m \u001b[0mcallbacks\u001b[0m\u001b[0;34m)\u001b[0m\u001b[0;34m\u001b[0m\u001b[0;34m\u001b[0m\u001b[0m\n\u001b[0m\u001b[1;32m     36\u001b[0m \u001b[0;34m\u001b[0m\u001b[0m\n\u001b[1;32m     37\u001b[0m     \u001b[0mmetrics\u001b[0m \u001b[0;34m=\u001b[0m \u001b[0mevaluate_model\u001b[0m\u001b[0;34m(\u001b[0m\u001b[0mmodel\u001b[0m\u001b[0;34m,\u001b[0m \u001b[0mtest_set\u001b[0m\u001b[0;34m,\u001b[0m \u001b[0mseed\u001b[0m\u001b[0;34m)\u001b[0m\u001b[0;34m\u001b[0m\u001b[0;34m\u001b[0m\u001b[0m\n",
            "\u001b[0;32m<ipython-input-113-3ed255d2cb26>\u001b[0m in \u001b[0;36mtrain_model\u001b[0;34m(model, train_set, val_set, callbacks, epochs)\u001b[0m\n\u001b[1;32m      4\u001b[0m         \u001b[0mcallbacks\u001b[0m \u001b[0;34m=\u001b[0m \u001b[0;34m[\u001b[0m\u001b[0;34m]\u001b[0m\u001b[0;34m\u001b[0m\u001b[0;34m\u001b[0m\u001b[0m\n\u001b[1;32m      5\u001b[0m \u001b[0;34m\u001b[0m\u001b[0m\n\u001b[0;32m----> 6\u001b[0;31m     history = model.fit(\n\u001b[0m\u001b[1;32m      7\u001b[0m         \u001b[0mtrain_set\u001b[0m\u001b[0;34m,\u001b[0m\u001b[0;34m\u001b[0m\u001b[0;34m\u001b[0m\u001b[0m\n\u001b[1;32m      8\u001b[0m         \u001b[0mvalidation_data\u001b[0m\u001b[0;34m=\u001b[0m\u001b[0mval_set\u001b[0m\u001b[0;34m,\u001b[0m\u001b[0;34m\u001b[0m\u001b[0;34m\u001b[0m\u001b[0m\n",
            "\u001b[0;32m/usr/local/lib/python3.11/dist-packages/keras/src/utils/traceback_utils.py\u001b[0m in \u001b[0;36merror_handler\u001b[0;34m(*args, **kwargs)\u001b[0m\n\u001b[1;32m    115\u001b[0m         \u001b[0mfiltered_tb\u001b[0m \u001b[0;34m=\u001b[0m \u001b[0;32mNone\u001b[0m\u001b[0;34m\u001b[0m\u001b[0;34m\u001b[0m\u001b[0m\n\u001b[1;32m    116\u001b[0m         \u001b[0;32mtry\u001b[0m\u001b[0;34m:\u001b[0m\u001b[0;34m\u001b[0m\u001b[0;34m\u001b[0m\u001b[0m\n\u001b[0;32m--> 117\u001b[0;31m             \u001b[0;32mreturn\u001b[0m \u001b[0mfn\u001b[0m\u001b[0;34m(\u001b[0m\u001b[0;34m*\u001b[0m\u001b[0margs\u001b[0m\u001b[0;34m,\u001b[0m \u001b[0;34m**\u001b[0m\u001b[0mkwargs\u001b[0m\u001b[0;34m)\u001b[0m\u001b[0;34m\u001b[0m\u001b[0;34m\u001b[0m\u001b[0m\n\u001b[0m\u001b[1;32m    118\u001b[0m         \u001b[0;32mexcept\u001b[0m \u001b[0mException\u001b[0m \u001b[0;32mas\u001b[0m \u001b[0me\u001b[0m\u001b[0;34m:\u001b[0m\u001b[0;34m\u001b[0m\u001b[0;34m\u001b[0m\u001b[0m\n\u001b[1;32m    119\u001b[0m             \u001b[0mfiltered_tb\u001b[0m \u001b[0;34m=\u001b[0m \u001b[0m_process_traceback_frames\u001b[0m\u001b[0;34m(\u001b[0m\u001b[0me\u001b[0m\u001b[0;34m.\u001b[0m\u001b[0m__traceback__\u001b[0m\u001b[0;34m)\u001b[0m\u001b[0;34m\u001b[0m\u001b[0;34m\u001b[0m\u001b[0m\n",
            "\u001b[0;32m/usr/local/lib/python3.11/dist-packages/keras/src/backend/tensorflow/trainer.py\u001b[0m in \u001b[0;36mfit\u001b[0;34m(self, x, y, batch_size, epochs, verbose, callbacks, validation_split, validation_data, shuffle, class_weight, sample_weight, initial_epoch, steps_per_epoch, validation_steps, validation_batch_size, validation_freq)\u001b[0m\n\u001b[1;32m    368\u001b[0m             \u001b[0;32mwith\u001b[0m \u001b[0mepoch_iterator\u001b[0m\u001b[0;34m.\u001b[0m\u001b[0mcatch_stop_iteration\u001b[0m\u001b[0;34m(\u001b[0m\u001b[0;34m)\u001b[0m\u001b[0;34m:\u001b[0m\u001b[0;34m\u001b[0m\u001b[0;34m\u001b[0m\u001b[0m\n\u001b[1;32m    369\u001b[0m                 \u001b[0;32mfor\u001b[0m \u001b[0mstep\u001b[0m\u001b[0;34m,\u001b[0m \u001b[0miterator\u001b[0m \u001b[0;32min\u001b[0m \u001b[0mepoch_iterator\u001b[0m\u001b[0;34m:\u001b[0m\u001b[0;34m\u001b[0m\u001b[0;34m\u001b[0m\u001b[0m\n\u001b[0;32m--> 370\u001b[0;31m                     \u001b[0mcallbacks\u001b[0m\u001b[0;34m.\u001b[0m\u001b[0mon_train_batch_begin\u001b[0m\u001b[0;34m(\u001b[0m\u001b[0mstep\u001b[0m\u001b[0;34m)\u001b[0m\u001b[0;34m\u001b[0m\u001b[0;34m\u001b[0m\u001b[0m\n\u001b[0m\u001b[1;32m    371\u001b[0m                     \u001b[0mlogs\u001b[0m \u001b[0;34m=\u001b[0m \u001b[0mself\u001b[0m\u001b[0;34m.\u001b[0m\u001b[0mtrain_function\u001b[0m\u001b[0;34m(\u001b[0m\u001b[0miterator\u001b[0m\u001b[0;34m)\u001b[0m\u001b[0;34m\u001b[0m\u001b[0;34m\u001b[0m\u001b[0m\n\u001b[1;32m    372\u001b[0m                     \u001b[0mcallbacks\u001b[0m\u001b[0;34m.\u001b[0m\u001b[0mon_train_batch_end\u001b[0m\u001b[0;34m(\u001b[0m\u001b[0mstep\u001b[0m\u001b[0;34m,\u001b[0m \u001b[0mlogs\u001b[0m\u001b[0;34m)\u001b[0m\u001b[0;34m\u001b[0m\u001b[0;34m\u001b[0m\u001b[0m\n",
            "\u001b[0;32m/usr/local/lib/python3.11/dist-packages/keras/src/callbacks/callback_list.py\u001b[0m in \u001b[0;36mon_train_batch_begin\u001b[0;34m(self, batch, logs)\u001b[0m\n\u001b[1;32m    145\u001b[0m             \u001b[0mcallback\u001b[0m\u001b[0;34m.\u001b[0m\u001b[0mon_epoch_end\u001b[0m\u001b[0;34m(\u001b[0m\u001b[0mepoch\u001b[0m\u001b[0;34m,\u001b[0m \u001b[0mlogs\u001b[0m\u001b[0;34m)\u001b[0m\u001b[0;34m\u001b[0m\u001b[0;34m\u001b[0m\u001b[0m\n\u001b[1;32m    146\u001b[0m \u001b[0;34m\u001b[0m\u001b[0m\n\u001b[0;32m--> 147\u001b[0;31m     \u001b[0;32mdef\u001b[0m \u001b[0mon_train_batch_begin\u001b[0m\u001b[0;34m(\u001b[0m\u001b[0mself\u001b[0m\u001b[0;34m,\u001b[0m \u001b[0mbatch\u001b[0m\u001b[0;34m,\u001b[0m \u001b[0mlogs\u001b[0m\u001b[0;34m=\u001b[0m\u001b[0;32mNone\u001b[0m\u001b[0;34m)\u001b[0m\u001b[0;34m:\u001b[0m\u001b[0;34m\u001b[0m\u001b[0;34m\u001b[0m\u001b[0m\n\u001b[0m\u001b[1;32m    148\u001b[0m         \u001b[0mlogs\u001b[0m \u001b[0;34m=\u001b[0m \u001b[0mpython_utils\u001b[0m\u001b[0;34m.\u001b[0m\u001b[0mpythonify_logs\u001b[0m\u001b[0;34m(\u001b[0m\u001b[0mlogs\u001b[0m\u001b[0;34m)\u001b[0m\u001b[0;34m\u001b[0m\u001b[0;34m\u001b[0m\u001b[0m\n\u001b[1;32m    149\u001b[0m         \u001b[0;32mfor\u001b[0m \u001b[0mcallback\u001b[0m \u001b[0;32min\u001b[0m \u001b[0mself\u001b[0m\u001b[0;34m.\u001b[0m\u001b[0mcallbacks\u001b[0m\u001b[0;34m:\u001b[0m\u001b[0;34m\u001b[0m\u001b[0;34m\u001b[0m\u001b[0m\n",
            "\u001b[0;31mKeyboardInterrupt\u001b[0m: "
          ]
        }
      ]
    },
    {
      "cell_type": "code",
      "source": [
        "print(\"\\nResults of 5 trials\")\n",
        "print(f\"Mean ROC-AUC: {np.mean(roc_auc_scores):.3f}\")\n",
        "print(f\"Standard Deviation ROC-AUC: {np.std(roc_auc_scores):.3f}\")\n",
        "print(f\"Mean PR-AUC: {np.mean(pr_auc_scores):.3f}\")\n",
        "print(f\"Standard Deviation PR-AUC: {np.std(pr_auc_scores):.3f}\")"
      ],
      "metadata": {
        "id": "hYu2SpJsTS1l"
      },
      "execution_count": null,
      "outputs": []
    },
    {
      "cell_type": "markdown",
      "source": [
        "Discussion:\n",
        "Include a discussion at the end of your notebook (about what you have\n",
        "learned, difficulties, what has worked and not worked, future directions,\n",
        "etc.)."
      ],
      "metadata": {
        "id": "kDb8Mhg3WheG"
      }
    }
  ]
}