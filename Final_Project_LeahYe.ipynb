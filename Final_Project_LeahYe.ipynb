{
  "nbformat": 4,
  "nbformat_minor": 0,
  "metadata": {
    "colab": {
      "provenance": [],
      "authorship_tag": "ABX9TyPLH1aMbdKmOHsP9Gvj1rGY",
      "include_colab_link": true
    },
    "kernelspec": {
      "name": "python3",
      "display_name": "Python 3"
    },
    "language_info": {
      "name": "python"
    }
  },
  "cells": [
    {
      "cell_type": "markdown",
      "metadata": {
        "id": "view-in-github",
        "colab_type": "text"
      },
      "source": [
        "<a href=\"https://colab.research.google.com/github/leahyye/DATA305-Project/blob/main/Final_Project_LeahYe.ipynb\" target=\"_parent\"><img src=\"https://colab.research.google.com/assets/colab-badge.svg\" alt=\"Open In Colab\"/></a>"
      ]
    },
    {
      "cell_type": "markdown",
      "source": [
        "# DATA305 - Project"
      ],
      "metadata": {
        "id": "HzlFR-OQCxMX"
      }
    },
    {
      "cell_type": "markdown",
      "source": [
        "* Student Name: Leah Ye\n",
        "* Student ID: 300651931\n",
        "* Course code: DATA 305\n"
      ],
      "metadata": {
        "id": "cvO68SbOCyKe"
      }
    },
    {
      "cell_type": "code",
      "source": [
        "import numpy as np\n",
        "import matplotlib.pyplot as plt\n",
        "import os\n",
        "import random\n",
        "from sklearn.model_selection import train_test_split\n",
        "import tensorflow as tf\n",
        "from tensorflow.keras import layers, models\n",
        "from tensorflow.keras.layers import TextVectorization, Embedding, LSTM, Dense, Attention\n",
        "from tensorflow.keras.metrics import AUC\n",
        "from tensorflow.keras.models import Sequential\n",
        "from tensorflow.keras.callbacks import ReduceLROnPlateau, ModelCheckpoint, EarlyStopping"
      ],
      "metadata": {
        "id": "0W6qd1zXC-rX"
      },
      "execution_count": 1,
      "outputs": []
    },
    {
      "cell_type": "code",
      "source": [
        "def set_seeds(seed):\n",
        "  os.environ[\"PYTHONHASHSEED\"] = str(seed)\n",
        "  random.seed(seed)\n",
        "  np.random.seed(seed)\n",
        "  tf.random.set_seed(seed)\n",
        "  os.environ[\"TF_DETERMINISTIC_OPS\"] = \"1\""
      ],
      "metadata": {
        "id": "sUVkxxamDQNG"
      },
      "execution_count": 2,
      "outputs": []
    },
    {
      "cell_type": "code",
      "source": [
        "# Load the data\n",
        "from google.colab import files\n",
        "import pandas as pd\n",
        "uploaded = files.upload()\n",
        "\n",
        "train_set = pd.read_csv('train.csv')\n",
        "test_set = pd.read_csv('test.csv')\n",
        "print(f\"Loaded {len(train_set)} rows\")\n",
        "print(f\"Loaded {len(test_set)} rows\")"
      ],
      "metadata": {
        "colab": {
          "base_uri": "https://localhost:8080/",
          "height": 142
        },
        "id": "6KF6rWn5Nwtx",
        "outputId": "086245c0-8c98-4bd2-971e-9b98be6e06b8"
      },
      "execution_count": 4,
      "outputs": [
        {
          "output_type": "display_data",
          "data": {
            "text/plain": [
              "<IPython.core.display.HTML object>"
            ],
            "text/html": [
              "\n",
              "     <input type=\"file\" id=\"files-598f2b7e-c5ac-4d03-895a-177b6740f5f6\" name=\"files[]\" multiple disabled\n",
              "        style=\"border:none\" />\n",
              "     <output id=\"result-598f2b7e-c5ac-4d03-895a-177b6740f5f6\">\n",
              "      Upload widget is only available when the cell has been executed in the\n",
              "      current browser session. Please rerun this cell to enable.\n",
              "      </output>\n",
              "      <script>// Copyright 2017 Google LLC\n",
              "//\n",
              "// Licensed under the Apache License, Version 2.0 (the \"License\");\n",
              "// you may not use this file except in compliance with the License.\n",
              "// You may obtain a copy of the License at\n",
              "//\n",
              "//      http://www.apache.org/licenses/LICENSE-2.0\n",
              "//\n",
              "// Unless required by applicable law or agreed to in writing, software\n",
              "// distributed under the License is distributed on an \"AS IS\" BASIS,\n",
              "// WITHOUT WARRANTIES OR CONDITIONS OF ANY KIND, either express or implied.\n",
              "// See the License for the specific language governing permissions and\n",
              "// limitations under the License.\n",
              "\n",
              "/**\n",
              " * @fileoverview Helpers for google.colab Python module.\n",
              " */\n",
              "(function(scope) {\n",
              "function span(text, styleAttributes = {}) {\n",
              "  const element = document.createElement('span');\n",
              "  element.textContent = text;\n",
              "  for (const key of Object.keys(styleAttributes)) {\n",
              "    element.style[key] = styleAttributes[key];\n",
              "  }\n",
              "  return element;\n",
              "}\n",
              "\n",
              "// Max number of bytes which will be uploaded at a time.\n",
              "const MAX_PAYLOAD_SIZE = 100 * 1024;\n",
              "\n",
              "function _uploadFiles(inputId, outputId) {\n",
              "  const steps = uploadFilesStep(inputId, outputId);\n",
              "  const outputElement = document.getElementById(outputId);\n",
              "  // Cache steps on the outputElement to make it available for the next call\n",
              "  // to uploadFilesContinue from Python.\n",
              "  outputElement.steps = steps;\n",
              "\n",
              "  return _uploadFilesContinue(outputId);\n",
              "}\n",
              "\n",
              "// This is roughly an async generator (not supported in the browser yet),\n",
              "// where there are multiple asynchronous steps and the Python side is going\n",
              "// to poll for completion of each step.\n",
              "// This uses a Promise to block the python side on completion of each step,\n",
              "// then passes the result of the previous step as the input to the next step.\n",
              "function _uploadFilesContinue(outputId) {\n",
              "  const outputElement = document.getElementById(outputId);\n",
              "  const steps = outputElement.steps;\n",
              "\n",
              "  const next = steps.next(outputElement.lastPromiseValue);\n",
              "  return Promise.resolve(next.value.promise).then((value) => {\n",
              "    // Cache the last promise value to make it available to the next\n",
              "    // step of the generator.\n",
              "    outputElement.lastPromiseValue = value;\n",
              "    return next.value.response;\n",
              "  });\n",
              "}\n",
              "\n",
              "/**\n",
              " * Generator function which is called between each async step of the upload\n",
              " * process.\n",
              " * @param {string} inputId Element ID of the input file picker element.\n",
              " * @param {string} outputId Element ID of the output display.\n",
              " * @return {!Iterable<!Object>} Iterable of next steps.\n",
              " */\n",
              "function* uploadFilesStep(inputId, outputId) {\n",
              "  const inputElement = document.getElementById(inputId);\n",
              "  inputElement.disabled = false;\n",
              "\n",
              "  const outputElement = document.getElementById(outputId);\n",
              "  outputElement.innerHTML = '';\n",
              "\n",
              "  const pickedPromise = new Promise((resolve) => {\n",
              "    inputElement.addEventListener('change', (e) => {\n",
              "      resolve(e.target.files);\n",
              "    });\n",
              "  });\n",
              "\n",
              "  const cancel = document.createElement('button');\n",
              "  inputElement.parentElement.appendChild(cancel);\n",
              "  cancel.textContent = 'Cancel upload';\n",
              "  const cancelPromise = new Promise((resolve) => {\n",
              "    cancel.onclick = () => {\n",
              "      resolve(null);\n",
              "    };\n",
              "  });\n",
              "\n",
              "  // Wait for the user to pick the files.\n",
              "  const files = yield {\n",
              "    promise: Promise.race([pickedPromise, cancelPromise]),\n",
              "    response: {\n",
              "      action: 'starting',\n",
              "    }\n",
              "  };\n",
              "\n",
              "  cancel.remove();\n",
              "\n",
              "  // Disable the input element since further picks are not allowed.\n",
              "  inputElement.disabled = true;\n",
              "\n",
              "  if (!files) {\n",
              "    return {\n",
              "      response: {\n",
              "        action: 'complete',\n",
              "      }\n",
              "    };\n",
              "  }\n",
              "\n",
              "  for (const file of files) {\n",
              "    const li = document.createElement('li');\n",
              "    li.append(span(file.name, {fontWeight: 'bold'}));\n",
              "    li.append(span(\n",
              "        `(${file.type || 'n/a'}) - ${file.size} bytes, ` +\n",
              "        `last modified: ${\n",
              "            file.lastModifiedDate ? file.lastModifiedDate.toLocaleDateString() :\n",
              "                                    'n/a'} - `));\n",
              "    const percent = span('0% done');\n",
              "    li.appendChild(percent);\n",
              "\n",
              "    outputElement.appendChild(li);\n",
              "\n",
              "    const fileDataPromise = new Promise((resolve) => {\n",
              "      const reader = new FileReader();\n",
              "      reader.onload = (e) => {\n",
              "        resolve(e.target.result);\n",
              "      };\n",
              "      reader.readAsArrayBuffer(file);\n",
              "    });\n",
              "    // Wait for the data to be ready.\n",
              "    let fileData = yield {\n",
              "      promise: fileDataPromise,\n",
              "      response: {\n",
              "        action: 'continue',\n",
              "      }\n",
              "    };\n",
              "\n",
              "    // Use a chunked sending to avoid message size limits. See b/62115660.\n",
              "    let position = 0;\n",
              "    do {\n",
              "      const length = Math.min(fileData.byteLength - position, MAX_PAYLOAD_SIZE);\n",
              "      const chunk = new Uint8Array(fileData, position, length);\n",
              "      position += length;\n",
              "\n",
              "      const base64 = btoa(String.fromCharCode.apply(null, chunk));\n",
              "      yield {\n",
              "        response: {\n",
              "          action: 'append',\n",
              "          file: file.name,\n",
              "          data: base64,\n",
              "        },\n",
              "      };\n",
              "\n",
              "      let percentDone = fileData.byteLength === 0 ?\n",
              "          100 :\n",
              "          Math.round((position / fileData.byteLength) * 100);\n",
              "      percent.textContent = `${percentDone}% done`;\n",
              "\n",
              "    } while (position < fileData.byteLength);\n",
              "  }\n",
              "\n",
              "  // All done.\n",
              "  yield {\n",
              "    response: {\n",
              "      action: 'complete',\n",
              "    }\n",
              "  };\n",
              "}\n",
              "\n",
              "scope.google = scope.google || {};\n",
              "scope.google.colab = scope.google.colab || {};\n",
              "scope.google.colab._files = {\n",
              "  _uploadFiles,\n",
              "  _uploadFilesContinue,\n",
              "};\n",
              "})(self);\n",
              "</script> "
            ]
          },
          "metadata": {}
        },
        {
          "output_type": "stream",
          "name": "stdout",
          "text": [
            "Saving test.csv to test.csv\n",
            "Saving train.csv to train.csv\n",
            "Loaded 2352 rows\n",
            "Loaded 3370 rows\n"
          ]
        }
      ]
    },
    {
      "cell_type": "code",
      "source": [
        "def data_preprocessing(seed, train_path='train.csv', test_path='test.csv'):\n",
        "    \"\"\"\n",
        "    Load and split data into train/val/test sets\n",
        "    Returns: (train_set, val_set, test_set)\n",
        "    \"\"\"\n",
        "    # Load data\n",
        "    train = pd.read_csv(train_path)\n",
        "    test = pd.read_csv(test_path)\n",
        "\n",
        "    X_train = train['FASTA']\n",
        "    y_train = train['label']\n",
        "\n",
        "    # Split train into train/val\n",
        "    X_train, X_val, y_train, y_val = train_test_split(\n",
        "        X_train, y_train,\n",
        "        test_size=0.2,\n",
        "        random_state=seed,\n",
        "        stratify=y_train\n",
        "    )\n",
        "\n",
        "    # Create TensorFlow Datasets, and applying batching\n",
        "    train_set = tf.data.Dataset.from_tensor_slices((X_train.values, y_train.values))\n",
        "    train_set = train_set.shuffle(5000, seed=seed).batch(32).prefetch(1)\n",
        "\n",
        "    val_set = tf.data.Dataset.from_tensor_slices((X_val.values, y_val.values))\n",
        "    val_set = val_set.batch(32).prefetch(1)\n",
        "\n",
        "    test_set = tf.data.Dataset.from_tensor_slices((test['FASTA'].values, test['label'].values))\n",
        "    test_set = test_set.batch(32).prefetch(1)\n",
        "\n",
        "    return train_set, val_set, test_set"
      ],
      "metadata": {
        "id": "pqv4HUsyNWGj"
      },
      "execution_count": 5,
      "outputs": []
    },
    {
      "cell_type": "code",
      "source": [
        "# Text vectorisation\n",
        "def build_text_vectorizer(train_text, max_tokens=30, seq_length=50):\n",
        "    \"\"\"Create and adapt text vectorization layer\"\"\"\n",
        "    text_vec_layer = TextVectorization(\n",
        "        max_tokens=max_tokens,\n",
        "        output_sequence_length=seq_length,\n",
        "        split=\"character\",\n",
        "        pad_to_max_tokens=True\n",
        "    )\n",
        "    text_vec_layer.adapt(train_text)\n",
        "    return text_vec_layer"
      ],
      "metadata": {
        "id": "r_lLsEVnN78f"
      },
      "execution_count": 6,
      "outputs": []
    },
    {
      "cell_type": "code",
      "source": [
        "class LNSimpleRNNCell(tf.keras.layers.Layer):\n",
        "    def __init__(self, units, activation=\"tanh\", **kwargs):\n",
        "        super().__init__(**kwargs)\n",
        "        self.state_size = units\n",
        "        self.output_size = units\n",
        "        self.simple_rnn_cell = tf.keras.layers.SimpleRNNCell(units,\n",
        "                                                             activation=None)\n",
        "        self.layer_norm = tf.keras.layers.LayerNormalization()\n",
        "        self.activation = tf.keras.activations.get(activation)\n",
        "\n",
        "    def call(self, inputs, states):\n",
        "        outputs, new_states = self.simple_rnn_cell(inputs, states)\n",
        "        norm_outputs = self.activation(self.layer_norm(outputs))\n",
        "        return norm_outputs, [norm_outputs]"
      ],
      "metadata": {
        "id": "Bbk_s-1Rc3pf"
      },
      "execution_count": 7,
      "outputs": []
    },
    {
      "cell_type": "code",
      "source": [
        "# BEST MODEL\n",
        "def build_improved_model(text_vec_layer, embed_size=128):\n",
        "    vocab_size = len(text_vec_layer.get_vocabulary())\n",
        "\n",
        "    model = tf.keras.Sequential([\n",
        "        text_vec_layer,                                                                       # Text vectorisation layer\n",
        "        tf.keras.layers.Embedding(vocab_size, embed_size, mask_zero=True),                    # Embedding layer\n",
        "        tf.keras.layers.Conv1D(filters=64, kernel_size=3, activation='relu', padding='same'), # Conv1D\n",
        "        tf.keras.layers.RNN(LNSimpleRNNCell(128), return_sequences=True),                     # Simple RNN\n",
        "        tf.keras.layers.GRU(64, return_sequences=True),                                       # GRU\n",
        "        tf.keras.layers.Lambda(lambda x: tf.reduce_sum(x * tf.nn.softmax(x, axis=1), axis=1)),# Attention\n",
        "        tf.keras.layers.Dense(64, activation='relu'),                                         # Dense layer\n",
        "        tf.keras.layers.Dense(64, activation='relu'),                                         # Dense layer\n",
        "        tf.keras.layers.Dense(1, activation=\"sigmoid\")                                        # Output\n",
        "    ])\n",
        "\n",
        "    model.compile(\n",
        "        loss=\"binary_crossentropy\",\n",
        "        optimizer=tf.keras.optimizers.AdamW(learning_rate=0.001),\n",
        "        metrics=[\n",
        "            AUC(name='roc_auc', curve='ROC'),\n",
        "            AUC(name='pr_auc', curve='PR')\n",
        "        ]\n",
        "    )\n",
        "    return model"
      ],
      "metadata": {
        "id": "AWzVU5RXlEor"
      },
      "execution_count": 14,
      "outputs": []
    },
    {
      "cell_type": "code",
      "source": [
        "def train_model(model, train_set, val_set, callbacks, epochs=30):\n",
        "    if callbacks is None:\n",
        "        callbacks = []\n",
        "\n",
        "    history = model.fit(\n",
        "        train_set,\n",
        "        validation_data=val_set,\n",
        "        epochs=epochs,\n",
        "        callbacks=callbacks,\n",
        "        verbose=1\n",
        "    )\n",
        "    return history"
      ],
      "metadata": {
        "id": "ZhVfH3qxOQNe"
      },
      "execution_count": 15,
      "outputs": []
    },
    {
      "cell_type": "code",
      "source": [
        "# Evaluate the performance of the model on the test set\n",
        "def evaluate_model(model, test_set, verbose=True):\n",
        "    test_loss, test_roc_auc, test_pr_auc = model.evaluate(test_set, verbose=0)\n",
        "\n",
        "    metrics = {\n",
        "        'loss': test_loss,\n",
        "        'roc_auc': test_roc_auc,\n",
        "        'pr_auc': test_pr_auc\n",
        "    }\n",
        "\n",
        "    if verbose:\n",
        "        print(\"\\n\" + \"=\"*50)\n",
        "        print(\"-\"*50)\n",
        "        print(f\"Test Loss:       {test_loss:.4f}\")\n",
        "        print(f\"Test ROC-AUC:    {test_roc_auc:.4f}\")\n",
        "        print(f\"Test PR-AUC:     {test_pr_auc:.4f}\")\n",
        "        print(\"=\"*50 + \"\\n\")\n",
        "\n",
        "    return metrics"
      ],
      "metadata": {
        "id": "vBZYz9WfOas2"
      },
      "execution_count": 16,
      "outputs": []
    },
    {
      "cell_type": "code",
      "source": [
        "# Train and fit model for each seed\n",
        "def run_experiment(seed):\n",
        "    print(f\"\\n=== Running Trial with seed {seed} ===\")\n",
        "    set_seeds(seed)\n",
        "\n",
        "    train_set, val_set, test_set = data_preprocessing(seed)\n",
        "    train_text = pd.read_csv('train.csv')['FASTA']\n",
        "    text_vec_layer = build_text_vectorizer(train_text)\n",
        "    model = build_improved_model(text_vec_layer)\n",
        "\n",
        "    reduce_lr = tf.keras.callbacks.ReduceLROnPlateau(\n",
        "        monitor='val_roc_auc',\n",
        "        mode='max',\n",
        "        factor=0.5,\n",
        "        patience=2,\n",
        "        min_lr=1e-6,\n",
        "    )\n",
        "\n",
        "    checkpoint_cb = ModelCheckpoint(\n",
        "        \"best_model.weights.h5\",\n",
        "        monitor='val_roc_auc',\n",
        "        mode='max',\n",
        "        save_best_only=True,\n",
        "        save_weights_only=True,\n",
        "    )\n",
        "\n",
        "    early_stopping_cb = EarlyStopping(\n",
        "        monitor='val_roc_auc',\n",
        "        mode='max',\n",
        "        patience=3,\n",
        "        restore_best_weights=True,\n",
        "    )\n",
        "\n",
        "    callbacks = [checkpoint_cb, early_stopping_cb, reduce_lr]\n",
        "    history = train_model(model, train_set, val_set, callbacks)\n",
        "\n",
        "    metrics = evaluate_model(model, test_set, seed)\n",
        "\n",
        "    return history, metrics"
      ],
      "metadata": {
        "id": "7pWu3TqlUH71"
      },
      "execution_count": 17,
      "outputs": []
    },
    {
      "cell_type": "code",
      "source": [
        "# Execution of reproducible results\n",
        "SEEDS = [1,2,3,4,5]\n",
        "roc_auc_scores = []\n",
        "pr_auc_scores = []\n",
        "\n",
        "for seed in SEEDS:\n",
        "    _, metrics = run_experiment(seed)\n",
        "    roc_auc_scores.append(metrics['roc_auc'])\n",
        "    pr_auc_scores.append(metrics['pr_auc'])"
      ],
      "metadata": {
        "colab": {
          "base_uri": "https://localhost:8080/"
        },
        "id": "hJ8RhAo3OnPQ",
        "outputId": "9ccf9453-2a54-495b-e243-75cb916079b8"
      },
      "execution_count": 18,
      "outputs": [
        {
          "output_type": "stream",
          "name": "stdout",
          "text": [
            "\n",
            "=== Running Trial with seed 1 ===\n",
            "Epoch 1/30\n"
          ]
        },
        {
          "output_type": "stream",
          "name": "stderr",
          "text": [
            "/usr/local/lib/python3.11/dist-packages/keras/src/layers/layer.py:938: UserWarning: Layer 'conv1d' (of type Conv1D) was passed an input with a mask attached to it. However, this layer does not support masking and will therefore destroy the mask information. Downstream layers will not see the mask.\n",
            "  warnings.warn(\n",
            "/usr/local/lib/python3.11/dist-packages/keras/src/layers/layer.py:393: UserWarning: `build()` was called on layer 'ln_simple_rnn_cell_5', however the layer does not have a `build()` method implemented and it looks like it has unbuilt state. This will cause the layer to be marked as built, despite not being actually built, which may cause failures down the line. Make sure to implement a proper `build()` method.\n",
            "  warnings.warn(\n"
          ]
        },
        {
          "output_type": "stream",
          "name": "stdout",
          "text": [
            "\u001b[1m59/59\u001b[0m \u001b[32m━━━━━━━━━━━━━━━━━━━━\u001b[0m\u001b[37m\u001b[0m \u001b[1m15s\u001b[0m 129ms/step - loss: 0.6720 - pr_auc: 0.6309 - roc_auc: 0.5899 - val_loss: 0.6134 - val_pr_auc: 0.7826 - val_roc_auc: 0.7717 - learning_rate: 0.0010\n",
            "Epoch 2/30\n",
            "\u001b[1m59/59\u001b[0m \u001b[32m━━━━━━━━━━━━━━━━━━━━\u001b[0m\u001b[37m\u001b[0m \u001b[1m9s\u001b[0m 114ms/step - loss: 0.6039 - pr_auc: 0.7660 - roc_auc: 0.7217 - val_loss: 0.5475 - val_pr_auc: 0.8162 - val_roc_auc: 0.7810 - learning_rate: 0.0010\n",
            "Epoch 3/30\n",
            "\u001b[1m59/59\u001b[0m \u001b[32m━━━━━━━━━━━━━━━━━━━━\u001b[0m\u001b[37m\u001b[0m \u001b[1m5s\u001b[0m 85ms/step - loss: 0.5191 - pr_auc: 0.8401 - roc_auc: 0.8155 - val_loss: 0.5017 - val_pr_auc: 0.8623 - val_roc_auc: 0.8485 - learning_rate: 0.0010\n",
            "Epoch 4/30\n",
            "\u001b[1m59/59\u001b[0m \u001b[32m━━━━━━━━━━━━━━━━━━━━\u001b[0m\u001b[37m\u001b[0m \u001b[1m6s\u001b[0m 103ms/step - loss: 0.4926 - pr_auc: 0.8430 - roc_auc: 0.8398 - val_loss: 0.4998 - val_pr_auc: 0.8613 - val_roc_auc: 0.8496 - learning_rate: 0.0010\n",
            "Epoch 5/30\n",
            "\u001b[1m59/59\u001b[0m \u001b[32m━━━━━━━━━━━━━━━━━━━━\u001b[0m\u001b[37m\u001b[0m \u001b[1m9s\u001b[0m 85ms/step - loss: 0.4364 - pr_auc: 0.8957 - roc_auc: 0.8838 - val_loss: 0.4705 - val_pr_auc: 0.8537 - val_roc_auc: 0.8605 - learning_rate: 0.0010\n",
            "Epoch 6/30\n",
            "\u001b[1m59/59\u001b[0m \u001b[32m━━━━━━━━━━━━━━━━━━━━\u001b[0m\u001b[37m\u001b[0m \u001b[1m6s\u001b[0m 109ms/step - loss: 0.4309 - pr_auc: 0.8928 - roc_auc: 0.8812 - val_loss: 0.4634 - val_pr_auc: 0.8738 - val_roc_auc: 0.8679 - learning_rate: 0.0010\n",
            "Epoch 7/30\n",
            "\u001b[1m59/59\u001b[0m \u001b[32m━━━━━━━━━━━━━━━━━━━━\u001b[0m\u001b[37m\u001b[0m \u001b[1m9s\u001b[0m 92ms/step - loss: 0.4137 - pr_auc: 0.9052 - roc_auc: 0.8919 - val_loss: 0.4400 - val_pr_auc: 0.8838 - val_roc_auc: 0.8843 - learning_rate: 0.0010\n",
            "Epoch 8/30\n",
            "\u001b[1m59/59\u001b[0m \u001b[32m━━━━━━━━━━━━━━━━━━━━\u001b[0m\u001b[37m\u001b[0m \u001b[1m10s\u001b[0m 87ms/step - loss: 0.3701 - pr_auc: 0.9167 - roc_auc: 0.9146 - val_loss: 0.4537 - val_pr_auc: 0.8752 - val_roc_auc: 0.8719 - learning_rate: 0.0010\n",
            "Epoch 9/30\n",
            "\u001b[1m59/59\u001b[0m \u001b[32m━━━━━━━━━━━━━━━━━━━━\u001b[0m\u001b[37m\u001b[0m \u001b[1m9s\u001b[0m 162ms/step - loss: 0.3885 - pr_auc: 0.9063 - roc_auc: 0.9035 - val_loss: 0.4222 - val_pr_auc: 0.8912 - val_roc_auc: 0.8873 - learning_rate: 0.0010\n",
            "Epoch 10/30\n",
            "\u001b[1m59/59\u001b[0m \u001b[32m━━━━━━━━━━━━━━━━━━━━\u001b[0m\u001b[37m\u001b[0m \u001b[1m6s\u001b[0m 110ms/step - loss: 0.3828 - pr_auc: 0.9160 - roc_auc: 0.9074 - val_loss: 0.4472 - val_pr_auc: 0.8835 - val_roc_auc: 0.8779 - learning_rate: 0.0010\n",
            "Epoch 11/30\n",
            "\u001b[1m59/59\u001b[0m \u001b[32m━━━━━━━━━━━━━━━━━━━━\u001b[0m\u001b[37m\u001b[0m \u001b[1m7s\u001b[0m 112ms/step - loss: 0.3709 - pr_auc: 0.9146 - roc_auc: 0.9143 - val_loss: 0.4674 - val_pr_auc: 0.8729 - val_roc_auc: 0.8754 - learning_rate: 0.0010\n",
            "Epoch 12/30\n",
            "\u001b[1m59/59\u001b[0m \u001b[32m━━━━━━━━━━━━━━━━━━━━\u001b[0m\u001b[37m\u001b[0m \u001b[1m9s\u001b[0m 93ms/step - loss: 0.3172 - pr_auc: 0.9415 - roc_auc: 0.9372 - val_loss: 0.4481 - val_pr_auc: 0.8723 - val_roc_auc: 0.8796 - learning_rate: 5.0000e-04\n",
            "\n",
            "==================================================\n",
            "--------------------------------------------------\n",
            "Test Loss:       0.4959\n",
            "Test ROC-AUC:    0.8178\n",
            "Test PR-AUC:     0.4418\n",
            "==================================================\n",
            "\n",
            "\n",
            "=== Running Trial with seed 2 ===\n",
            "Epoch 1/30\n"
          ]
        },
        {
          "output_type": "stream",
          "name": "stderr",
          "text": [
            "/usr/local/lib/python3.11/dist-packages/keras/src/layers/layer.py:938: UserWarning: Layer 'conv1d_1' (of type Conv1D) was passed an input with a mask attached to it. However, this layer does not support masking and will therefore destroy the mask information. Downstream layers will not see the mask.\n",
            "  warnings.warn(\n",
            "/usr/local/lib/python3.11/dist-packages/keras/src/layers/layer.py:393: UserWarning: `build()` was called on layer 'ln_simple_rnn_cell_6', however the layer does not have a `build()` method implemented and it looks like it has unbuilt state. This will cause the layer to be marked as built, despite not being actually built, which may cause failures down the line. Make sure to implement a proper `build()` method.\n",
            "  warnings.warn(\n"
          ]
        },
        {
          "output_type": "stream",
          "name": "stdout",
          "text": [
            "\u001b[1m59/59\u001b[0m \u001b[32m━━━━━━━━━━━━━━━━━━━━\u001b[0m\u001b[37m\u001b[0m \u001b[1m15s\u001b[0m 107ms/step - loss: 0.6863 - pr_auc: 0.5624 - roc_auc: 0.5469 - val_loss: 0.6258 - val_pr_auc: 0.7148 - val_roc_auc: 0.7191 - learning_rate: 0.0010\n",
            "Epoch 2/30\n",
            "\u001b[1m59/59\u001b[0m \u001b[32m━━━━━━━━━━━━━━━━━━━━\u001b[0m\u001b[37m\u001b[0m \u001b[1m7s\u001b[0m 112ms/step - loss: 0.6012 - pr_auc: 0.7433 - roc_auc: 0.7365 - val_loss: 0.7033 - val_pr_auc: 0.8166 - val_roc_auc: 0.8027 - learning_rate: 0.0010\n",
            "Epoch 3/30\n",
            "\u001b[1m59/59\u001b[0m \u001b[32m━━━━━━━━━━━━━━━━━━━━\u001b[0m\u001b[37m\u001b[0m \u001b[1m5s\u001b[0m 87ms/step - loss: 0.5543 - pr_auc: 0.8162 - roc_auc: 0.8100 - val_loss: 0.5004 - val_pr_auc: 0.8434 - val_roc_auc: 0.8466 - learning_rate: 0.0010\n",
            "Epoch 4/30\n",
            "\u001b[1m59/59\u001b[0m \u001b[32m━━━━━━━━━━━━━━━━━━━━\u001b[0m\u001b[37m\u001b[0m \u001b[1m6s\u001b[0m 102ms/step - loss: 0.4535 - pr_auc: 0.8797 - roc_auc: 0.8669 - val_loss: 0.5263 - val_pr_auc: 0.8357 - val_roc_auc: 0.8411 - learning_rate: 0.0010\n",
            "Epoch 5/30\n",
            "\u001b[1m59/59\u001b[0m \u001b[32m━━━━━━━━━━━━━━━━━━━━\u001b[0m\u001b[37m\u001b[0m \u001b[1m10s\u001b[0m 92ms/step - loss: 0.4527 - pr_auc: 0.8782 - roc_auc: 0.8691 - val_loss: 0.5345 - val_pr_auc: 0.8410 - val_roc_auc: 0.8514 - learning_rate: 0.0010\n",
            "Epoch 6/30\n",
            "\u001b[1m59/59\u001b[0m \u001b[32m━━━━━━━━━━━━━━━━━━━━\u001b[0m\u001b[37m\u001b[0m \u001b[1m7s\u001b[0m 110ms/step - loss: 0.4442 - pr_auc: 0.8872 - roc_auc: 0.8753 - val_loss: 0.5087 - val_pr_auc: 0.8110 - val_roc_auc: 0.8439 - learning_rate: 0.0010\n",
            "Epoch 7/30\n",
            "\u001b[1m59/59\u001b[0m \u001b[32m━━━━━━━━━━━━━━━━━━━━\u001b[0m\u001b[37m\u001b[0m \u001b[1m9s\u001b[0m 97ms/step - loss: 0.4071 - pr_auc: 0.9072 - roc_auc: 0.8946 - val_loss: 0.5092 - val_pr_auc: 0.8420 - val_roc_auc: 0.8536 - learning_rate: 0.0010\n",
            "Epoch 8/30\n",
            "\u001b[1m59/59\u001b[0m \u001b[32m━━━━━━━━━━━━━━━━━━━━\u001b[0m\u001b[37m\u001b[0m \u001b[1m10s\u001b[0m 87ms/step - loss: 0.3564 - pr_auc: 0.9320 - roc_auc: 0.9200 - val_loss: 0.5436 - val_pr_auc: 0.8201 - val_roc_auc: 0.8422 - learning_rate: 0.0010\n",
            "Epoch 9/30\n",
            "\u001b[1m59/59\u001b[0m \u001b[32m━━━━━━━━━━━━━━━━━━━━\u001b[0m\u001b[37m\u001b[0m \u001b[1m10s\u001b[0m 86ms/step - loss: 0.3980 - pr_auc: 0.9119 - roc_auc: 0.9007 - val_loss: 0.5072 - val_pr_auc: 0.8192 - val_roc_auc: 0.8405 - learning_rate: 0.0010\n",
            "Epoch 10/30\n",
            "\u001b[1m59/59\u001b[0m \u001b[32m━━━━━━━━━━━━━━━━━━━━\u001b[0m\u001b[37m\u001b[0m \u001b[1m6s\u001b[0m 108ms/step - loss: 0.4224 - pr_auc: 0.8987 - roc_auc: 0.8835 - val_loss: 0.5650 - val_pr_auc: 0.8382 - val_roc_auc: 0.8485 - learning_rate: 5.0000e-04\n",
            "\n",
            "==================================================\n",
            "--------------------------------------------------\n",
            "Test Loss:       0.4567\n",
            "Test ROC-AUC:    0.8447\n",
            "Test PR-AUC:     0.5070\n",
            "==================================================\n",
            "\n",
            "\n",
            "=== Running Trial with seed 3 ===\n",
            "Epoch 1/30\n"
          ]
        },
        {
          "output_type": "stream",
          "name": "stderr",
          "text": [
            "/usr/local/lib/python3.11/dist-packages/keras/src/layers/layer.py:938: UserWarning: Layer 'conv1d_2' (of type Conv1D) was passed an input with a mask attached to it. However, this layer does not support masking and will therefore destroy the mask information. Downstream layers will not see the mask.\n",
            "  warnings.warn(\n",
            "/usr/local/lib/python3.11/dist-packages/keras/src/layers/layer.py:393: UserWarning: `build()` was called on layer 'ln_simple_rnn_cell_7', however the layer does not have a `build()` method implemented and it looks like it has unbuilt state. This will cause the layer to be marked as built, despite not being actually built, which may cause failures down the line. Make sure to implement a proper `build()` method.\n",
            "  warnings.warn(\n"
          ]
        },
        {
          "output_type": "stream",
          "name": "stdout",
          "text": [
            "\u001b[1m59/59\u001b[0m \u001b[32m━━━━━━━━━━━━━━━━━━━━\u001b[0m\u001b[37m\u001b[0m \u001b[1m15s\u001b[0m 107ms/step - loss: 0.6761 - pr_auc: 0.5973 - roc_auc: 0.5758 - val_loss: 0.5920 - val_pr_auc: 0.7652 - val_roc_auc: 0.7454 - learning_rate: 0.0010\n",
            "Epoch 2/30\n",
            "\u001b[1m59/59\u001b[0m \u001b[32m━━━━━━━━━━━━━━━━━━━━\u001b[0m\u001b[37m\u001b[0m \u001b[1m7s\u001b[0m 112ms/step - loss: 0.5950 - pr_auc: 0.7578 - roc_auc: 0.7284 - val_loss: 0.5979 - val_pr_auc: 0.8170 - val_roc_auc: 0.7979 - learning_rate: 0.0010\n",
            "Epoch 3/30\n",
            "\u001b[1m59/59\u001b[0m \u001b[32m━━━━━━━━━━━━━━━━━━━━\u001b[0m\u001b[37m\u001b[0m \u001b[1m9s\u001b[0m 87ms/step - loss: 0.5362 - pr_auc: 0.8190 - roc_auc: 0.8070 - val_loss: 0.5300 - val_pr_auc: 0.8541 - val_roc_auc: 0.8418 - learning_rate: 0.0010\n",
            "Epoch 4/30\n",
            "\u001b[1m59/59\u001b[0m \u001b[32m━━━━━━━━━━━━━━━━━━━━\u001b[0m\u001b[37m\u001b[0m \u001b[1m7s\u001b[0m 111ms/step - loss: 0.4500 - pr_auc: 0.8831 - roc_auc: 0.8711 - val_loss: 0.4874 - val_pr_auc: 0.8571 - val_roc_auc: 0.8529 - learning_rate: 0.0010\n",
            "Epoch 5/30\n",
            "\u001b[1m59/59\u001b[0m \u001b[32m━━━━━━━━━━━━━━━━━━━━\u001b[0m\u001b[37m\u001b[0m \u001b[1m5s\u001b[0m 92ms/step - loss: 0.4522 - pr_auc: 0.8740 - roc_auc: 0.8666 - val_loss: 0.5137 - val_pr_auc: 0.8533 - val_roc_auc: 0.8430 - learning_rate: 0.0010\n",
            "Epoch 6/30\n",
            "\u001b[1m59/59\u001b[0m \u001b[32m━━━━━━━━━━━━━━━━━━━━\u001b[0m\u001b[37m\u001b[0m \u001b[1m7s\u001b[0m 112ms/step - loss: 0.4614 - pr_auc: 0.8669 - roc_auc: 0.8657 - val_loss: 0.5166 - val_pr_auc: 0.8583 - val_roc_auc: 0.8530 - learning_rate: 0.0010\n",
            "Epoch 7/30\n",
            "\u001b[1m59/59\u001b[0m \u001b[32m━━━━━━━━━━━━━━━━━━━━\u001b[0m\u001b[37m\u001b[0m \u001b[1m5s\u001b[0m 86ms/step - loss: 0.3965 - pr_auc: 0.9077 - roc_auc: 0.8976 - val_loss: 0.4920 - val_pr_auc: 0.8533 - val_roc_auc: 0.8447 - learning_rate: 0.0010\n",
            "Epoch 8/30\n",
            "\u001b[1m59/59\u001b[0m \u001b[32m━━━━━━━━━━━━━━━━━━━━\u001b[0m\u001b[37m\u001b[0m \u001b[1m7s\u001b[0m 111ms/step - loss: 0.4219 - pr_auc: 0.8876 - roc_auc: 0.8845 - val_loss: 0.6016 - val_pr_auc: 0.8455 - val_roc_auc: 0.8398 - learning_rate: 0.0010\n",
            "Epoch 9/30\n",
            "\u001b[1m59/59\u001b[0m \u001b[32m━━━━━━━━━━━━━━━━━━━━\u001b[0m\u001b[37m\u001b[0m \u001b[1m5s\u001b[0m 87ms/step - loss: 0.4024 - pr_auc: 0.9064 - roc_auc: 0.9015 - val_loss: 0.5264 - val_pr_auc: 0.8508 - val_roc_auc: 0.8432 - learning_rate: 5.0000e-04\n",
            "\n",
            "==================================================\n",
            "--------------------------------------------------\n",
            "Test Loss:       0.4270\n",
            "Test ROC-AUC:    0.8395\n",
            "Test PR-AUC:     0.4646\n",
            "==================================================\n",
            "\n",
            "\n",
            "=== Running Trial with seed 4 ===\n",
            "Epoch 1/30\n"
          ]
        },
        {
          "output_type": "stream",
          "name": "stderr",
          "text": [
            "/usr/local/lib/python3.11/dist-packages/keras/src/layers/layer.py:938: UserWarning: Layer 'conv1d_3' (of type Conv1D) was passed an input with a mask attached to it. However, this layer does not support masking and will therefore destroy the mask information. Downstream layers will not see the mask.\n",
            "  warnings.warn(\n",
            "/usr/local/lib/python3.11/dist-packages/keras/src/layers/layer.py:393: UserWarning: `build()` was called on layer 'ln_simple_rnn_cell_8', however the layer does not have a `build()` method implemented and it looks like it has unbuilt state. This will cause the layer to be marked as built, despite not being actually built, which may cause failures down the line. Make sure to implement a proper `build()` method.\n",
            "  warnings.warn(\n"
          ]
        },
        {
          "output_type": "stream",
          "name": "stdout",
          "text": [
            "\u001b[1m59/59\u001b[0m \u001b[32m━━━━━━━━━━━━━━━━━━━━\u001b[0m\u001b[37m\u001b[0m \u001b[1m17s\u001b[0m 118ms/step - loss: 0.6855 - pr_auc: 0.5601 - roc_auc: 0.5487 - val_loss: 0.6900 - val_pr_auc: 0.6396 - val_roc_auc: 0.6270 - learning_rate: 0.0010\n",
            "Epoch 2/30\n",
            "\u001b[1m59/59\u001b[0m \u001b[32m━━━━━━━━━━━━━━━━━━━━\u001b[0m\u001b[37m\u001b[0m \u001b[1m9s\u001b[0m 88ms/step - loss: 0.6733 - pr_auc: 0.6300 - roc_auc: 0.6543 - val_loss: 0.6481 - val_pr_auc: 0.7202 - val_roc_auc: 0.6980 - learning_rate: 0.0010\n",
            "Epoch 3/30\n",
            "\u001b[1m59/59\u001b[0m \u001b[32m━━━━━━━━━━━━━━━━━━━━\u001b[0m\u001b[37m\u001b[0m \u001b[1m7s\u001b[0m 113ms/step - loss: 0.6204 - pr_auc: 0.7003 - roc_auc: 0.7130 - val_loss: 0.6604 - val_pr_auc: 0.7855 - val_roc_auc: 0.7597 - learning_rate: 0.0010\n",
            "Epoch 4/30\n",
            "\u001b[1m59/59\u001b[0m \u001b[32m━━━━━━━━━━━━━━━━━━━━\u001b[0m\u001b[37m\u001b[0m \u001b[1m9s\u001b[0m 87ms/step - loss: 0.6281 - pr_auc: 0.7078 - roc_auc: 0.7157 - val_loss: 0.6079 - val_pr_auc: 0.8261 - val_roc_auc: 0.8079 - learning_rate: 0.0010\n",
            "Epoch 5/30\n",
            "\u001b[1m59/59\u001b[0m \u001b[32m━━━━━━━━━━━━━━━━━━━━\u001b[0m\u001b[37m\u001b[0m \u001b[1m7s\u001b[0m 113ms/step - loss: 0.4993 - pr_auc: 0.8484 - roc_auc: 0.8396 - val_loss: 0.4852 - val_pr_auc: 0.8580 - val_roc_auc: 0.8501 - learning_rate: 0.0010\n",
            "Epoch 6/30\n",
            "\u001b[1m59/59\u001b[0m \u001b[32m━━━━━━━━━━━━━━━━━━━━\u001b[0m\u001b[37m\u001b[0m \u001b[1m5s\u001b[0m 88ms/step - loss: 0.4623 - pr_auc: 0.8754 - roc_auc: 0.8634 - val_loss: 0.4798 - val_pr_auc: 0.8662 - val_roc_auc: 0.8613 - learning_rate: 0.0010\n",
            "Epoch 7/30\n",
            "\u001b[1m59/59\u001b[0m \u001b[32m━━━━━━━━━━━━━━━━━━━━\u001b[0m\u001b[37m\u001b[0m \u001b[1m10s\u001b[0m 87ms/step - loss: 0.4389 - pr_auc: 0.8751 - roc_auc: 0.8788 - val_loss: 0.4597 - val_pr_auc: 0.8762 - val_roc_auc: 0.8685 - learning_rate: 0.0010\n",
            "Epoch 8/30\n",
            "\u001b[1m59/59\u001b[0m \u001b[32m━━━━━━━━━━━━━━━━━━━━\u001b[0m\u001b[37m\u001b[0m \u001b[1m11s\u001b[0m 96ms/step - loss: 0.4229 - pr_auc: 0.8917 - roc_auc: 0.8839 - val_loss: 0.4944 - val_pr_auc: 0.8646 - val_roc_auc: 0.8610 - learning_rate: 0.0010\n",
            "Epoch 9/30\n",
            "\u001b[1m59/59\u001b[0m \u001b[32m━━━━━━━━━━━━━━━━━━━━\u001b[0m\u001b[37m\u001b[0m \u001b[1m5s\u001b[0m 88ms/step - loss: 0.4174 - pr_auc: 0.8881 - roc_auc: 0.8904 - val_loss: 0.4630 - val_pr_auc: 0.8810 - val_roc_auc: 0.8730 - learning_rate: 0.0010\n",
            "Epoch 10/30\n",
            "\u001b[1m59/59\u001b[0m \u001b[32m━━━━━━━━━━━━━━━━━━━━\u001b[0m\u001b[37m\u001b[0m \u001b[1m7s\u001b[0m 112ms/step - loss: 0.4106 - pr_auc: 0.9001 - roc_auc: 0.8924 - val_loss: 0.4564 - val_pr_auc: 0.8737 - val_roc_auc: 0.8698 - learning_rate: 0.0010\n",
            "Epoch 11/30\n",
            "\u001b[1m59/59\u001b[0m \u001b[32m━━━━━━━━━━━━━━━━━━━━\u001b[0m\u001b[37m\u001b[0m \u001b[1m5s\u001b[0m 89ms/step - loss: 0.3925 - pr_auc: 0.9067 - roc_auc: 0.9027 - val_loss: 0.4708 - val_pr_auc: 0.8828 - val_roc_auc: 0.8803 - learning_rate: 0.0010\n",
            "Epoch 12/30\n",
            "\u001b[1m59/59\u001b[0m \u001b[32m━━━━━━━━━━━━━━━━━━━━\u001b[0m\u001b[37m\u001b[0m \u001b[1m10s\u001b[0m 87ms/step - loss: 0.3970 - pr_auc: 0.8983 - roc_auc: 0.9022 - val_loss: 0.4975 - val_pr_auc: 0.8721 - val_roc_auc: 0.8674 - learning_rate: 0.0010\n",
            "Epoch 13/30\n",
            "\u001b[1m59/59\u001b[0m \u001b[32m━━━━━━━━━━━━━━━━━━━━\u001b[0m\u001b[37m\u001b[0m \u001b[1m6s\u001b[0m 101ms/step - loss: 0.4023 - pr_auc: 0.8806 - roc_auc: 0.8934 - val_loss: 0.4412 - val_pr_auc: 0.8855 - val_roc_auc: 0.8829 - learning_rate: 0.0010\n",
            "Epoch 14/30\n",
            "\u001b[1m59/59\u001b[0m \u001b[32m━━━━━━━━━━━━━━━━━━━━\u001b[0m\u001b[37m\u001b[0m \u001b[1m10s\u001b[0m 91ms/step - loss: 0.4003 - pr_auc: 0.9036 - roc_auc: 0.8991 - val_loss: 0.4433 - val_pr_auc: 0.8826 - val_roc_auc: 0.8801 - learning_rate: 0.0010\n",
            "Epoch 15/30\n",
            "\u001b[1m59/59\u001b[0m \u001b[32m━━━━━━━━━━━━━━━━━━━━\u001b[0m\u001b[37m\u001b[0m \u001b[1m7s\u001b[0m 112ms/step - loss: 0.3557 - pr_auc: 0.9185 - roc_auc: 0.9241 - val_loss: 0.4668 - val_pr_auc: 0.8769 - val_roc_auc: 0.8768 - learning_rate: 0.0010\n",
            "Epoch 16/30\n",
            "\u001b[1m59/59\u001b[0m \u001b[32m━━━━━━━━━━━━━━━━━━━━\u001b[0m\u001b[37m\u001b[0m \u001b[1m5s\u001b[0m 87ms/step - loss: 0.3378 - pr_auc: 0.9159 - roc_auc: 0.9269 - val_loss: 0.4478 - val_pr_auc: 0.8886 - val_roc_auc: 0.8825 - learning_rate: 5.0000e-04\n",
            "\n",
            "==================================================\n",
            "--------------------------------------------------\n",
            "Test Loss:       0.4367\n",
            "Test ROC-AUC:    0.8305\n",
            "Test PR-AUC:     0.5119\n",
            "==================================================\n",
            "\n",
            "\n",
            "=== Running Trial with seed 5 ===\n",
            "Epoch 1/30\n"
          ]
        },
        {
          "output_type": "stream",
          "name": "stderr",
          "text": [
            "/usr/local/lib/python3.11/dist-packages/keras/src/layers/layer.py:938: UserWarning: Layer 'conv1d_4' (of type Conv1D) was passed an input with a mask attached to it. However, this layer does not support masking and will therefore destroy the mask information. Downstream layers will not see the mask.\n",
            "  warnings.warn(\n",
            "/usr/local/lib/python3.11/dist-packages/keras/src/layers/layer.py:393: UserWarning: `build()` was called on layer 'ln_simple_rnn_cell_9', however the layer does not have a `build()` method implemented and it looks like it has unbuilt state. This will cause the layer to be marked as built, despite not being actually built, which may cause failures down the line. Make sure to implement a proper `build()` method.\n",
            "  warnings.warn(\n"
          ]
        },
        {
          "output_type": "stream",
          "name": "stdout",
          "text": [
            "\u001b[1m59/59\u001b[0m \u001b[32m━━━━━━━━━━━━━━━━━━━━\u001b[0m\u001b[37m\u001b[0m \u001b[1m16s\u001b[0m 121ms/step - loss: 0.6739 - pr_auc: 0.6083 - roc_auc: 0.6002 - val_loss: 0.6221 - val_pr_auc: 0.7399 - val_roc_auc: 0.7191 - learning_rate: 0.0010\n",
            "Epoch 2/30\n",
            "\u001b[1m59/59\u001b[0m \u001b[32m━━━━━━━━━━━━━━━━━━━━\u001b[0m\u001b[37m\u001b[0m \u001b[1m6s\u001b[0m 94ms/step - loss: 0.6033 - pr_auc: 0.7577 - roc_auc: 0.7335 - val_loss: 0.5763 - val_pr_auc: 0.8012 - val_roc_auc: 0.7830 - learning_rate: 0.0010\n",
            "Epoch 3/30\n",
            "\u001b[1m59/59\u001b[0m \u001b[32m━━━━━━━━━━━━━━━━━━━━\u001b[0m\u001b[37m\u001b[0m \u001b[1m5s\u001b[0m 87ms/step - loss: 0.5638 - pr_auc: 0.7760 - roc_auc: 0.7847 - val_loss: 0.5299 - val_pr_auc: 0.8314 - val_roc_auc: 0.8205 - learning_rate: 0.0010\n",
            "Epoch 4/30\n",
            "\u001b[1m59/59\u001b[0m \u001b[32m━━━━━━━━━━━━━━━━━━━━\u001b[0m\u001b[37m\u001b[0m \u001b[1m7s\u001b[0m 117ms/step - loss: 0.4839 - pr_auc: 0.8374 - roc_auc: 0.8469 - val_loss: 0.5286 - val_pr_auc: 0.8334 - val_roc_auc: 0.8344 - learning_rate: 0.0010\n",
            "Epoch 5/30\n",
            "\u001b[1m59/59\u001b[0m \u001b[32m━━━━━━━━━━━━━━━━━━━━\u001b[0m\u001b[37m\u001b[0m \u001b[1m5s\u001b[0m 88ms/step - loss: 0.4631 - pr_auc: 0.8735 - roc_auc: 0.8593 - val_loss: 0.5360 - val_pr_auc: 0.8293 - val_roc_auc: 0.8395 - learning_rate: 0.0010\n",
            "Epoch 6/30\n",
            "\u001b[1m59/59\u001b[0m \u001b[32m━━━━━━━━━━━━━━━━━━━━\u001b[0m\u001b[37m\u001b[0m \u001b[1m7s\u001b[0m 111ms/step - loss: 0.4374 - pr_auc: 0.8763 - roc_auc: 0.8782 - val_loss: 0.5076 - val_pr_auc: 0.8359 - val_roc_auc: 0.8386 - learning_rate: 0.0010\n",
            "Epoch 7/30\n",
            "\u001b[1m59/59\u001b[0m \u001b[32m━━━━━━━━━━━━━━━━━━━━\u001b[0m\u001b[37m\u001b[0m \u001b[1m9s\u001b[0m 93ms/step - loss: 0.4163 - pr_auc: 0.8905 - roc_auc: 0.8902 - val_loss: 0.5018 - val_pr_auc: 0.8359 - val_roc_auc: 0.8411 - learning_rate: 0.0010\n",
            "Epoch 8/30\n",
            "\u001b[1m59/59\u001b[0m \u001b[32m━━━━━━━━━━━━━━━━━━━━\u001b[0m\u001b[37m\u001b[0m \u001b[1m10s\u001b[0m 87ms/step - loss: 0.4078 - pr_auc: 0.9003 - roc_auc: 0.8931 - val_loss: 0.5728 - val_pr_auc: 0.8363 - val_roc_auc: 0.8403 - learning_rate: 0.0010\n",
            "Epoch 9/30\n",
            "\u001b[1m59/59\u001b[0m \u001b[32m━━━━━━━━━━━━━━━━━━━━\u001b[0m\u001b[37m\u001b[0m \u001b[1m7s\u001b[0m 113ms/step - loss: 0.3936 - pr_auc: 0.8988 - roc_auc: 0.9025 - val_loss: 0.5085 - val_pr_auc: 0.8484 - val_roc_auc: 0.8473 - learning_rate: 0.0010\n",
            "Epoch 10/30\n",
            "\u001b[1m59/59\u001b[0m \u001b[32m━━━━━━━━━━━━━━━━━━━━\u001b[0m\u001b[37m\u001b[0m \u001b[1m5s\u001b[0m 86ms/step - loss: 0.3604 - pr_auc: 0.9310 - roc_auc: 0.9197 - val_loss: 0.5514 - val_pr_auc: 0.8416 - val_roc_auc: 0.8381 - learning_rate: 0.0010\n",
            "Epoch 11/30\n",
            "\u001b[1m59/59\u001b[0m \u001b[32m━━━━━━━━━━━━━━━━━━━━\u001b[0m\u001b[37m\u001b[0m \u001b[1m6s\u001b[0m 110ms/step - loss: 0.3537 - pr_auc: 0.9236 - roc_auc: 0.9163 - val_loss: 0.5571 - val_pr_auc: 0.8344 - val_roc_auc: 0.8361 - learning_rate: 0.0010\n",
            "Epoch 12/30\n",
            "\u001b[1m59/59\u001b[0m \u001b[32m━━━━━━━━━━━━━━━━━━━━\u001b[0m\u001b[37m\u001b[0m \u001b[1m5s\u001b[0m 87ms/step - loss: 0.3480 - pr_auc: 0.9269 - roc_auc: 0.9253 - val_loss: 0.5304 - val_pr_auc: 0.8459 - val_roc_auc: 0.8451 - learning_rate: 5.0000e-04\n",
            "\n",
            "==================================================\n",
            "--------------------------------------------------\n",
            "Test Loss:       0.4795\n",
            "Test ROC-AUC:    0.8240\n",
            "Test PR-AUC:     0.4722\n",
            "==================================================\n",
            "\n"
          ]
        }
      ]
    },
    {
      "cell_type": "code",
      "source": [
        "print(\"\\nResults of 5 trials\")\n",
        "print(f\"Mean ROC-AUC: {np.mean(roc_auc_scores):.3f}\")\n",
        "print(f\"Standard Deviation ROC-AUC: {np.std(roc_auc_scores):.3f}\")\n",
        "print(f\"Mean PR-AUC: {np.mean(pr_auc_scores):.3f}\")\n",
        "print(f\"Standard Deviation PR-AUC: {np.std(pr_auc_scores):.3f}\")"
      ],
      "metadata": {
        "id": "hYu2SpJsTS1l",
        "colab": {
          "base_uri": "https://localhost:8080/"
        },
        "outputId": "a2967235-6d18-41ab-9bfb-1c0ca3ac0bbb"
      },
      "execution_count": 19,
      "outputs": [
        {
          "output_type": "stream",
          "name": "stdout",
          "text": [
            "\n",
            "Results of 5 trials\n",
            "Mean ROC-AUC: 0.831\n",
            "Standard Deviation ROC-AUC: 0.010\n",
            "Mean PR-AUC: 0.480\n",
            "Standard Deviation PR-AUC: 0.026\n"
          ]
        }
      ]
    },
    {
      "cell_type": "markdown",
      "source": [
        "Discussion:\n",
        "*   I learnt how to develop a functional model trained on sequence data and developing it through different deep neural networks including: CNN, RNN, attention mechanisms, GRU, bidirectional, embedding, and using masking.\n",
        "*   Data preprocessing was a bit of a challenge because I had not dealt with sequence data before. So data preprocessing took a while.\n",
        "*   To test out the model I started off with a simple model and added more complexity(layers) with the aim of improving its ROC-AUC. This worked well because it allowed me to see which parameters and layers overfitted the model.\n",
        "* Trying to improve the ROC-AUC was the most difficult part. Simply adjusting the learning rate, and input parameters for the model layers didn't seem to do the job.\n",
        "* In the future, it may be worth researching into what type of data/output the different types of neural networks work well with depending on the type of performance metric we are trying to optimise. Next time, I will go onto the TensorFlow website to investigate before fitting models through trial and error.\n",
        "\n",
        "\n",
        "\n"
      ],
      "metadata": {
        "id": "kDb8Mhg3WheG"
      }
    }
  ]
}